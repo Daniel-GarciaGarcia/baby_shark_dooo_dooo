{
 "cells": [
  {
   "cell_type": "code",
   "execution_count": 14,
   "metadata": {},
   "outputs": [],
   "source": [
    "import pandas as pd\n",
    "from collections import Counter\n",
    "import matplotlib.pyplot as plt\n",
    "import numpy as np\n",
    "\n",
    "df= pd.read_csv(\"/home/danielgarcia/baby_shark_dooo_dooo/input/attacks.csv\", encoding='latin-1')"
   ]
  },
  {
   "cell_type": "code",
   "execution_count": 15,
   "metadata": {},
   "outputs": [
    {
     "data": {
      "text/plain": [
       "Case Number               8702\n",
       "Date                      6302\n",
       "Year                      6300\n",
       "Type                      6298\n",
       "Country                   6252\n",
       "Area                      5847\n",
       "Location                  5762\n",
       "Activity                  5758\n",
       "Name                      6092\n",
       "Sex                       5737\n",
       "Age                       3471\n",
       "Injury                    6274\n",
       "Fatal (Y/N)               5763\n",
       "Time                      2948\n",
       "Species                   3464\n",
       "Investigator or Source    6285\n",
       "pdf                       6302\n",
       "href formula              6301\n",
       "href                      6302\n",
       "Case Number.1             6302\n",
       "Case Number.2             6302\n",
       "original order            6309\n",
       "Unnamed: 22                  1\n",
       "Unnamed: 23                  2\n",
       "dtype: int64"
      ]
     },
     "execution_count": 15,
     "metadata": {},
     "output_type": "execute_result"
    }
   ],
   "source": [
    "df.count()"
   ]
  },
  {
   "cell_type": "code",
   "execution_count": 16,
   "metadata": {},
   "outputs": [
    {
     "data": {
      "text/html": [
       "<div>\n",
       "<style scoped>\n",
       "    .dataframe tbody tr th:only-of-type {\n",
       "        vertical-align: middle;\n",
       "    }\n",
       "\n",
       "    .dataframe tbody tr th {\n",
       "        vertical-align: top;\n",
       "    }\n",
       "\n",
       "    .dataframe thead th {\n",
       "        text-align: right;\n",
       "    }\n",
       "</style>\n",
       "<table border=\"1\" class=\"dataframe\">\n",
       "  <thead>\n",
       "    <tr style=\"text-align: right;\">\n",
       "      <th></th>\n",
       "      <th>Case Number</th>\n",
       "      <th>Date</th>\n",
       "      <th>Year</th>\n",
       "      <th>Type</th>\n",
       "      <th>Country</th>\n",
       "      <th>Area</th>\n",
       "      <th>Location</th>\n",
       "      <th>Activity</th>\n",
       "      <th>Name</th>\n",
       "      <th>Sex</th>\n",
       "      <th>...</th>\n",
       "      <th>Species</th>\n",
       "      <th>Investigator or Source</th>\n",
       "      <th>pdf</th>\n",
       "      <th>href formula</th>\n",
       "      <th>href</th>\n",
       "      <th>Case Number.1</th>\n",
       "      <th>Case Number.2</th>\n",
       "      <th>original order</th>\n",
       "      <th>Unnamed: 22</th>\n",
       "      <th>Unnamed: 23</th>\n",
       "    </tr>\n",
       "  </thead>\n",
       "  <tbody>\n",
       "    <tr>\n",
       "      <th>0</th>\n",
       "      <td>2018.06.25</td>\n",
       "      <td>25-Jun-2018</td>\n",
       "      <td>2018.0</td>\n",
       "      <td>Boating</td>\n",
       "      <td>USA</td>\n",
       "      <td>California</td>\n",
       "      <td>Oceanside, San Diego County</td>\n",
       "      <td>Paddling</td>\n",
       "      <td>Julie Wolfe</td>\n",
       "      <td>F</td>\n",
       "      <td>...</td>\n",
       "      <td>White shark</td>\n",
       "      <td>R. Collier, GSAF</td>\n",
       "      <td>2018.06.25-Wolfe.pdf</td>\n",
       "      <td>http://sharkattackfile.net/spreadsheets/pdf_di...</td>\n",
       "      <td>http://sharkattackfile.net/spreadsheets/pdf_di...</td>\n",
       "      <td>2018.06.25</td>\n",
       "      <td>2018.06.25</td>\n",
       "      <td>6303.0</td>\n",
       "      <td>NaN</td>\n",
       "      <td>NaN</td>\n",
       "    </tr>\n",
       "    <tr>\n",
       "      <th>1</th>\n",
       "      <td>2018.06.18</td>\n",
       "      <td>18-Jun-2018</td>\n",
       "      <td>2018.0</td>\n",
       "      <td>Unprovoked</td>\n",
       "      <td>USA</td>\n",
       "      <td>Georgia</td>\n",
       "      <td>St. Simon Island, Glynn County</td>\n",
       "      <td>Standing</td>\n",
       "      <td>Adyson McNeely</td>\n",
       "      <td>F</td>\n",
       "      <td>...</td>\n",
       "      <td>NaN</td>\n",
       "      <td>K.McMurray, TrackingSharks.com</td>\n",
       "      <td>2018.06.18-McNeely.pdf</td>\n",
       "      <td>http://sharkattackfile.net/spreadsheets/pdf_di...</td>\n",
       "      <td>http://sharkattackfile.net/spreadsheets/pdf_di...</td>\n",
       "      <td>2018.06.18</td>\n",
       "      <td>2018.06.18</td>\n",
       "      <td>6302.0</td>\n",
       "      <td>NaN</td>\n",
       "      <td>NaN</td>\n",
       "    </tr>\n",
       "    <tr>\n",
       "      <th>2</th>\n",
       "      <td>2018.06.09</td>\n",
       "      <td>09-Jun-2018</td>\n",
       "      <td>2018.0</td>\n",
       "      <td>Invalid</td>\n",
       "      <td>USA</td>\n",
       "      <td>Hawaii</td>\n",
       "      <td>Habush, Oahu</td>\n",
       "      <td>Surfing</td>\n",
       "      <td>John Denges</td>\n",
       "      <td>M</td>\n",
       "      <td>...</td>\n",
       "      <td>NaN</td>\n",
       "      <td>K.McMurray, TrackingSharks.com</td>\n",
       "      <td>2018.06.09-Denges.pdf</td>\n",
       "      <td>http://sharkattackfile.net/spreadsheets/pdf_di...</td>\n",
       "      <td>http://sharkattackfile.net/spreadsheets/pdf_di...</td>\n",
       "      <td>2018.06.09</td>\n",
       "      <td>2018.06.09</td>\n",
       "      <td>6301.0</td>\n",
       "      <td>NaN</td>\n",
       "      <td>NaN</td>\n",
       "    </tr>\n",
       "    <tr>\n",
       "      <th>3</th>\n",
       "      <td>2018.06.08</td>\n",
       "      <td>08-Jun-2018</td>\n",
       "      <td>2018.0</td>\n",
       "      <td>Unprovoked</td>\n",
       "      <td>AUSTRALIA</td>\n",
       "      <td>New South Wales</td>\n",
       "      <td>Arrawarra Headland</td>\n",
       "      <td>Surfing</td>\n",
       "      <td>male</td>\n",
       "      <td>M</td>\n",
       "      <td>...</td>\n",
       "      <td>2 m shark</td>\n",
       "      <td>B. Myatt, GSAF</td>\n",
       "      <td>2018.06.08-Arrawarra.pdf</td>\n",
       "      <td>http://sharkattackfile.net/spreadsheets/pdf_di...</td>\n",
       "      <td>http://sharkattackfile.net/spreadsheets/pdf_di...</td>\n",
       "      <td>2018.06.08</td>\n",
       "      <td>2018.06.08</td>\n",
       "      <td>6300.0</td>\n",
       "      <td>NaN</td>\n",
       "      <td>NaN</td>\n",
       "    </tr>\n",
       "    <tr>\n",
       "      <th>4</th>\n",
       "      <td>2018.06.04</td>\n",
       "      <td>04-Jun-2018</td>\n",
       "      <td>2018.0</td>\n",
       "      <td>Provoked</td>\n",
       "      <td>MEXICO</td>\n",
       "      <td>Colima</td>\n",
       "      <td>La Ticla</td>\n",
       "      <td>Free diving</td>\n",
       "      <td>Gustavo Ramos</td>\n",
       "      <td>M</td>\n",
       "      <td>...</td>\n",
       "      <td>Tiger shark, 3m</td>\n",
       "      <td>A .Kipper</td>\n",
       "      <td>2018.06.04-Ramos.pdf</td>\n",
       "      <td>http://sharkattackfile.net/spreadsheets/pdf_di...</td>\n",
       "      <td>http://sharkattackfile.net/spreadsheets/pdf_di...</td>\n",
       "      <td>2018.06.04</td>\n",
       "      <td>2018.06.04</td>\n",
       "      <td>6299.0</td>\n",
       "      <td>NaN</td>\n",
       "      <td>NaN</td>\n",
       "    </tr>\n",
       "    <tr>\n",
       "      <th>...</th>\n",
       "      <td>...</td>\n",
       "      <td>...</td>\n",
       "      <td>...</td>\n",
       "      <td>...</td>\n",
       "      <td>...</td>\n",
       "      <td>...</td>\n",
       "      <td>...</td>\n",
       "      <td>...</td>\n",
       "      <td>...</td>\n",
       "      <td>...</td>\n",
       "      <td>...</td>\n",
       "      <td>...</td>\n",
       "      <td>...</td>\n",
       "      <td>...</td>\n",
       "      <td>...</td>\n",
       "      <td>...</td>\n",
       "      <td>...</td>\n",
       "      <td>...</td>\n",
       "      <td>...</td>\n",
       "      <td>...</td>\n",
       "      <td>...</td>\n",
       "    </tr>\n",
       "    <tr>\n",
       "      <th>25718</th>\n",
       "      <td>NaN</td>\n",
       "      <td>NaN</td>\n",
       "      <td>NaN</td>\n",
       "      <td>NaN</td>\n",
       "      <td>NaN</td>\n",
       "      <td>NaN</td>\n",
       "      <td>NaN</td>\n",
       "      <td>NaN</td>\n",
       "      <td>NaN</td>\n",
       "      <td>NaN</td>\n",
       "      <td>...</td>\n",
       "      <td>NaN</td>\n",
       "      <td>NaN</td>\n",
       "      <td>NaN</td>\n",
       "      <td>NaN</td>\n",
       "      <td>NaN</td>\n",
       "      <td>NaN</td>\n",
       "      <td>NaN</td>\n",
       "      <td>NaN</td>\n",
       "      <td>NaN</td>\n",
       "      <td>NaN</td>\n",
       "    </tr>\n",
       "    <tr>\n",
       "      <th>25719</th>\n",
       "      <td>NaN</td>\n",
       "      <td>NaN</td>\n",
       "      <td>NaN</td>\n",
       "      <td>NaN</td>\n",
       "      <td>NaN</td>\n",
       "      <td>NaN</td>\n",
       "      <td>NaN</td>\n",
       "      <td>NaN</td>\n",
       "      <td>NaN</td>\n",
       "      <td>NaN</td>\n",
       "      <td>...</td>\n",
       "      <td>NaN</td>\n",
       "      <td>NaN</td>\n",
       "      <td>NaN</td>\n",
       "      <td>NaN</td>\n",
       "      <td>NaN</td>\n",
       "      <td>NaN</td>\n",
       "      <td>NaN</td>\n",
       "      <td>NaN</td>\n",
       "      <td>NaN</td>\n",
       "      <td>NaN</td>\n",
       "    </tr>\n",
       "    <tr>\n",
       "      <th>25720</th>\n",
       "      <td>NaN</td>\n",
       "      <td>NaN</td>\n",
       "      <td>NaN</td>\n",
       "      <td>NaN</td>\n",
       "      <td>NaN</td>\n",
       "      <td>NaN</td>\n",
       "      <td>NaN</td>\n",
       "      <td>NaN</td>\n",
       "      <td>NaN</td>\n",
       "      <td>NaN</td>\n",
       "      <td>...</td>\n",
       "      <td>NaN</td>\n",
       "      <td>NaN</td>\n",
       "      <td>NaN</td>\n",
       "      <td>NaN</td>\n",
       "      <td>NaN</td>\n",
       "      <td>NaN</td>\n",
       "      <td>NaN</td>\n",
       "      <td>NaN</td>\n",
       "      <td>NaN</td>\n",
       "      <td>NaN</td>\n",
       "    </tr>\n",
       "    <tr>\n",
       "      <th>25721</th>\n",
       "      <td>NaN</td>\n",
       "      <td>NaN</td>\n",
       "      <td>NaN</td>\n",
       "      <td>NaN</td>\n",
       "      <td>NaN</td>\n",
       "      <td>NaN</td>\n",
       "      <td>NaN</td>\n",
       "      <td>NaN</td>\n",
       "      <td>NaN</td>\n",
       "      <td>NaN</td>\n",
       "      <td>...</td>\n",
       "      <td>NaN</td>\n",
       "      <td>NaN</td>\n",
       "      <td>NaN</td>\n",
       "      <td>NaN</td>\n",
       "      <td>NaN</td>\n",
       "      <td>NaN</td>\n",
       "      <td>NaN</td>\n",
       "      <td>NaN</td>\n",
       "      <td>NaN</td>\n",
       "      <td>NaN</td>\n",
       "    </tr>\n",
       "    <tr>\n",
       "      <th>25722</th>\n",
       "      <td>xx</td>\n",
       "      <td>NaN</td>\n",
       "      <td>NaN</td>\n",
       "      <td>NaN</td>\n",
       "      <td>NaN</td>\n",
       "      <td>NaN</td>\n",
       "      <td>NaN</td>\n",
       "      <td>NaN</td>\n",
       "      <td>NaN</td>\n",
       "      <td>NaN</td>\n",
       "      <td>...</td>\n",
       "      <td>NaN</td>\n",
       "      <td>NaN</td>\n",
       "      <td>NaN</td>\n",
       "      <td>NaN</td>\n",
       "      <td>NaN</td>\n",
       "      <td>NaN</td>\n",
       "      <td>NaN</td>\n",
       "      <td>NaN</td>\n",
       "      <td>NaN</td>\n",
       "      <td>NaN</td>\n",
       "    </tr>\n",
       "  </tbody>\n",
       "</table>\n",
       "<p>25723 rows × 24 columns</p>\n",
       "</div>"
      ],
      "text/plain": [
       "      Case Number         Date    Year        Type    Country  \\\n",
       "0      2018.06.25  25-Jun-2018  2018.0     Boating        USA   \n",
       "1      2018.06.18  18-Jun-2018  2018.0  Unprovoked        USA   \n",
       "2      2018.06.09  09-Jun-2018  2018.0     Invalid        USA   \n",
       "3      2018.06.08  08-Jun-2018  2018.0  Unprovoked  AUSTRALIA   \n",
       "4      2018.06.04  04-Jun-2018  2018.0    Provoked     MEXICO   \n",
       "...           ...          ...     ...         ...        ...   \n",
       "25718         NaN          NaN     NaN         NaN        NaN   \n",
       "25719         NaN          NaN     NaN         NaN        NaN   \n",
       "25720         NaN          NaN     NaN         NaN        NaN   \n",
       "25721         NaN          NaN     NaN         NaN        NaN   \n",
       "25722          xx          NaN     NaN         NaN        NaN   \n",
       "\n",
       "                  Area                        Location     Activity  \\\n",
       "0           California     Oceanside, San Diego County     Paddling   \n",
       "1              Georgia  St. Simon Island, Glynn County     Standing   \n",
       "2               Hawaii                    Habush, Oahu      Surfing   \n",
       "3      New South Wales              Arrawarra Headland      Surfing   \n",
       "4               Colima                        La Ticla  Free diving   \n",
       "...                ...                             ...          ...   \n",
       "25718              NaN                             NaN          NaN   \n",
       "25719              NaN                             NaN          NaN   \n",
       "25720              NaN                             NaN          NaN   \n",
       "25721              NaN                             NaN          NaN   \n",
       "25722              NaN                             NaN          NaN   \n",
       "\n",
       "                  Name Sex   ...         Species   \\\n",
       "0          Julie Wolfe    F  ...      White shark   \n",
       "1      Adyson McNeely     F  ...              NaN   \n",
       "2          John Denges    M  ...              NaN   \n",
       "3                 male    M  ...        2 m shark   \n",
       "4       Gustavo Ramos     M  ...  Tiger shark, 3m   \n",
       "...                ...  ...  ...              ...   \n",
       "25718              NaN  NaN  ...              NaN   \n",
       "25719              NaN  NaN  ...              NaN   \n",
       "25720              NaN  NaN  ...              NaN   \n",
       "25721              NaN  NaN  ...              NaN   \n",
       "25722              NaN  NaN  ...              NaN   \n",
       "\n",
       "               Investigator or Source                       pdf  \\\n",
       "0                    R. Collier, GSAF      2018.06.25-Wolfe.pdf   \n",
       "1      K.McMurray, TrackingSharks.com    2018.06.18-McNeely.pdf   \n",
       "2      K.McMurray, TrackingSharks.com     2018.06.09-Denges.pdf   \n",
       "3                      B. Myatt, GSAF  2018.06.08-Arrawarra.pdf   \n",
       "4                           A .Kipper      2018.06.04-Ramos.pdf   \n",
       "...                               ...                       ...   \n",
       "25718                             NaN                       NaN   \n",
       "25719                             NaN                       NaN   \n",
       "25720                             NaN                       NaN   \n",
       "25721                             NaN                       NaN   \n",
       "25722                             NaN                       NaN   \n",
       "\n",
       "                                            href formula  \\\n",
       "0      http://sharkattackfile.net/spreadsheets/pdf_di...   \n",
       "1      http://sharkattackfile.net/spreadsheets/pdf_di...   \n",
       "2      http://sharkattackfile.net/spreadsheets/pdf_di...   \n",
       "3      http://sharkattackfile.net/spreadsheets/pdf_di...   \n",
       "4      http://sharkattackfile.net/spreadsheets/pdf_di...   \n",
       "...                                                  ...   \n",
       "25718                                                NaN   \n",
       "25719                                                NaN   \n",
       "25720                                                NaN   \n",
       "25721                                                NaN   \n",
       "25722                                                NaN   \n",
       "\n",
       "                                                    href Case Number.1  \\\n",
       "0      http://sharkattackfile.net/spreadsheets/pdf_di...    2018.06.25   \n",
       "1      http://sharkattackfile.net/spreadsheets/pdf_di...    2018.06.18   \n",
       "2      http://sharkattackfile.net/spreadsheets/pdf_di...    2018.06.09   \n",
       "3      http://sharkattackfile.net/spreadsheets/pdf_di...    2018.06.08   \n",
       "4      http://sharkattackfile.net/spreadsheets/pdf_di...    2018.06.04   \n",
       "...                                                  ...           ...   \n",
       "25718                                                NaN           NaN   \n",
       "25719                                                NaN           NaN   \n",
       "25720                                                NaN           NaN   \n",
       "25721                                                NaN           NaN   \n",
       "25722                                                NaN           NaN   \n",
       "\n",
       "      Case Number.2 original order Unnamed: 22 Unnamed: 23  \n",
       "0        2018.06.25         6303.0         NaN         NaN  \n",
       "1        2018.06.18         6302.0         NaN         NaN  \n",
       "2        2018.06.09         6301.0         NaN         NaN  \n",
       "3        2018.06.08         6300.0         NaN         NaN  \n",
       "4        2018.06.04         6299.0         NaN         NaN  \n",
       "...             ...            ...         ...         ...  \n",
       "25718           NaN            NaN         NaN         NaN  \n",
       "25719           NaN            NaN         NaN         NaN  \n",
       "25720           NaN            NaN         NaN         NaN  \n",
       "25721           NaN            NaN         NaN         NaN  \n",
       "25722           NaN            NaN         NaN         NaN  \n",
       "\n",
       "[25723 rows x 24 columns]"
      ]
     },
     "execution_count": 16,
     "metadata": {},
     "output_type": "execute_result"
    }
   ],
   "source": [
    "df"
   ]
  },
  {
   "cell_type": "code",
   "execution_count": 17,
   "metadata": {},
   "outputs": [
    {
     "data": {
      "text/plain": [
       "Index(['Case Number', 'Date', 'Year', 'Type', 'Country', 'Area', 'Location',\n",
       "       'Activity', 'Name', 'Sex ', 'Age', 'Injury', 'Fatal (Y/N)', 'Time',\n",
       "       'Species ', 'Investigator or Source', 'pdf', 'href formula', 'href',\n",
       "       'Case Number.1', 'Case Number.2', 'original order', 'Unnamed: 22',\n",
       "       'Unnamed: 23'],\n",
       "      dtype='object')"
      ]
     },
     "execution_count": 17,
     "metadata": {},
     "output_type": "execute_result"
    }
   ],
   "source": [
    "df.columns"
   ]
  },
  {
   "cell_type": "code",
   "execution_count": 18,
   "metadata": {},
   "outputs": [],
   "source": [
    "df=df.rename(columns={'Species ': 'Species','Sex ': 'Sex','Fatal (Y/N)': 'Fatal'},)"
   ]
  },
  {
   "cell_type": "code",
   "execution_count": 19,
   "metadata": {},
   "outputs": [
    {
     "data": {
      "text/html": [
       "<div>\n",
       "<style scoped>\n",
       "    .dataframe tbody tr th:only-of-type {\n",
       "        vertical-align: middle;\n",
       "    }\n",
       "\n",
       "    .dataframe tbody tr th {\n",
       "        vertical-align: top;\n",
       "    }\n",
       "\n",
       "    .dataframe thead th {\n",
       "        text-align: right;\n",
       "    }\n",
       "</style>\n",
       "<table border=\"1\" class=\"dataframe\">\n",
       "  <thead>\n",
       "    <tr style=\"text-align: right;\">\n",
       "      <th></th>\n",
       "      <th>Species</th>\n",
       "      <th>Type</th>\n",
       "      <th>Activity</th>\n",
       "      <th>Injury</th>\n",
       "      <th>Fatal</th>\n",
       "      <th>Country</th>\n",
       "      <th>Area</th>\n",
       "      <th>Location</th>\n",
       "      <th>Sex</th>\n",
       "      <th>Age</th>\n",
       "      <th>Year</th>\n",
       "    </tr>\n",
       "  </thead>\n",
       "  <tbody>\n",
       "    <tr>\n",
       "      <th>0</th>\n",
       "      <td>White shark</td>\n",
       "      <td>Boating</td>\n",
       "      <td>Paddling</td>\n",
       "      <td>No injury to occupant, outrigger canoe and pad...</td>\n",
       "      <td>N</td>\n",
       "      <td>USA</td>\n",
       "      <td>California</td>\n",
       "      <td>Oceanside, San Diego County</td>\n",
       "      <td>F</td>\n",
       "      <td>57</td>\n",
       "      <td>2018</td>\n",
       "    </tr>\n",
       "    <tr>\n",
       "      <th>6</th>\n",
       "      <td>Tiger shark</td>\n",
       "      <td>Unprovoked</td>\n",
       "      <td>Swimming</td>\n",
       "      <td>FATAL</td>\n",
       "      <td>Y</td>\n",
       "      <td>BRAZIL</td>\n",
       "      <td>Pernambuco</td>\n",
       "      <td>Piedade Beach, Recife</td>\n",
       "      <td>M</td>\n",
       "      <td>18</td>\n",
       "      <td>2018</td>\n",
       "    </tr>\n",
       "    <tr>\n",
       "      <th>7</th>\n",
       "      <td>Lemon shark, 3'</td>\n",
       "      <td>Unprovoked</td>\n",
       "      <td>Fishing</td>\n",
       "      <td>Minor injury to foot. PROVOKED INCIDENT</td>\n",
       "      <td>N</td>\n",
       "      <td>USA</td>\n",
       "      <td>Florida</td>\n",
       "      <td>Lighhouse Point Park, Ponce Inlet, Volusia County</td>\n",
       "      <td>M</td>\n",
       "      <td>52</td>\n",
       "      <td>2018</td>\n",
       "    </tr>\n",
       "    <tr>\n",
       "      <th>8</th>\n",
       "      <td>Bull shark, 6'</td>\n",
       "      <td>Unprovoked</td>\n",
       "      <td>Walking</td>\n",
       "      <td>Lower left leg bitten</td>\n",
       "      <td>N</td>\n",
       "      <td>USA</td>\n",
       "      <td>Florida</td>\n",
       "      <td>Cocoa Beach, Brevard  County</td>\n",
       "      <td>M</td>\n",
       "      <td>15</td>\n",
       "      <td>2018</td>\n",
       "    </tr>\n",
       "    <tr>\n",
       "      <th>10</th>\n",
       "      <td>Grey reef shark</td>\n",
       "      <td>Provoked</td>\n",
       "      <td>Feeding sharks</td>\n",
       "      <td>Minor bite to hand by captive shark. PROVOKED ...</td>\n",
       "      <td>N</td>\n",
       "      <td>AUSTRALIA</td>\n",
       "      <td>Queensland</td>\n",
       "      <td>Cairns Aquarium</td>\n",
       "      <td>M</td>\n",
       "      <td>32</td>\n",
       "      <td>2018</td>\n",
       "    </tr>\n",
       "    <tr>\n",
       "      <th>...</th>\n",
       "      <td>...</td>\n",
       "      <td>...</td>\n",
       "      <td>...</td>\n",
       "      <td>...</td>\n",
       "      <td>...</td>\n",
       "      <td>...</td>\n",
       "      <td>...</td>\n",
       "      <td>...</td>\n",
       "      <td>...</td>\n",
       "      <td>...</td>\n",
       "      <td>...</td>\n",
       "    </tr>\n",
       "    <tr>\n",
       "      <th>490</th>\n",
       "      <td>Blacktip shark</td>\n",
       "      <td>Unprovoked</td>\n",
       "      <td>Surfing</td>\n",
       "      <td>Foot bitten</td>\n",
       "      <td>N</td>\n",
       "      <td>USA</td>\n",
       "      <td>Florida</td>\n",
       "      <td>New Smyrna Beach, Volusia County</td>\n",
       "      <td>M</td>\n",
       "      <td>29</td>\n",
       "      <td>2014</td>\n",
       "    </tr>\n",
       "    <tr>\n",
       "      <th>492</th>\n",
       "      <td>Blacktip shark</td>\n",
       "      <td>Unprovoked</td>\n",
       "      <td>Surfing</td>\n",
       "      <td>Foot bitten</td>\n",
       "      <td>N</td>\n",
       "      <td>USA</td>\n",
       "      <td>Florida</td>\n",
       "      <td>New Smyrna Beach, Volusia County</td>\n",
       "      <td>M</td>\n",
       "      <td>15</td>\n",
       "      <td>2014</td>\n",
       "    </tr>\n",
       "    <tr>\n",
       "      <th>495</th>\n",
       "      <td>8' to 10' shark</td>\n",
       "      <td>Unprovoked</td>\n",
       "      <td>Surfing</td>\n",
       "      <td>Lacerations to knee</td>\n",
       "      <td>N</td>\n",
       "      <td>USA</td>\n",
       "      <td>California</td>\n",
       "      <td>Walls Beach, Vandenberg AFB, Santa Barbara County</td>\n",
       "      <td>M</td>\n",
       "      <td>28</td>\n",
       "      <td>2014</td>\n",
       "    </tr>\n",
       "    <tr>\n",
       "      <th>496</th>\n",
       "      <td>2 white shark: 13' &amp; 9\"8\"</td>\n",
       "      <td>Unprovoked</td>\n",
       "      <td>Surfing</td>\n",
       "      <td>Left arm &amp; right hand severed, lacerations to ...</td>\n",
       "      <td>N</td>\n",
       "      <td>AUSTRALIA</td>\n",
       "      <td>Western Australia</td>\n",
       "      <td>Kelpids Beach, Wylie Bay, Esperance</td>\n",
       "      <td>M</td>\n",
       "      <td>23</td>\n",
       "      <td>2014</td>\n",
       "    </tr>\n",
       "    <tr>\n",
       "      <th>498</th>\n",
       "      <td>Blacktip shark</td>\n",
       "      <td>Unprovoked</td>\n",
       "      <td>Feeding fish</td>\n",
       "      <td>Thumb &amp; finger nipped</td>\n",
       "      <td>N</td>\n",
       "      <td>FRENCH POLYNESIA</td>\n",
       "      <td>Moorea</td>\n",
       "      <td>Tiahura Lagoon</td>\n",
       "      <td>F</td>\n",
       "      <td>36</td>\n",
       "      <td>2014</td>\n",
       "    </tr>\n",
       "  </tbody>\n",
       "</table>\n",
       "<p>200 rows × 11 columns</p>\n",
       "</div>"
      ],
      "text/plain": [
       "                       Species        Type        Activity  \\\n",
       "0                  White shark     Boating        Paddling   \n",
       "6                  Tiger shark  Unprovoked        Swimming   \n",
       "7              Lemon shark, 3'  Unprovoked         Fishing   \n",
       "8               Bull shark, 6'  Unprovoked         Walking   \n",
       "10             Grey reef shark    Provoked  Feeding sharks   \n",
       "..                         ...         ...             ...   \n",
       "490             Blacktip shark  Unprovoked         Surfing   \n",
       "492             Blacktip shark  Unprovoked         Surfing   \n",
       "495            8' to 10' shark  Unprovoked         Surfing   \n",
       "496  2 white shark: 13' & 9\"8\"  Unprovoked         Surfing   \n",
       "498             Blacktip shark  Unprovoked    Feeding fish   \n",
       "\n",
       "                                                Injury Fatal  \\\n",
       "0    No injury to occupant, outrigger canoe and pad...     N   \n",
       "6                                                FATAL     Y   \n",
       "7              Minor injury to foot. PROVOKED INCIDENT     N   \n",
       "8                                Lower left leg bitten     N   \n",
       "10   Minor bite to hand by captive shark. PROVOKED ...     N   \n",
       "..                                                 ...   ...   \n",
       "490                                        Foot bitten     N   \n",
       "492                                        Foot bitten     N   \n",
       "495                                Lacerations to knee     N   \n",
       "496  Left arm & right hand severed, lacerations to ...     N   \n",
       "498                              Thumb & finger nipped     N   \n",
       "\n",
       "              Country               Area  \\\n",
       "0                 USA         California   \n",
       "6              BRAZIL         Pernambuco   \n",
       "7                 USA            Florida   \n",
       "8                 USA            Florida   \n",
       "10          AUSTRALIA         Queensland   \n",
       "..                ...                ...   \n",
       "490               USA            Florida   \n",
       "492               USA            Florida   \n",
       "495               USA         California   \n",
       "496         AUSTRALIA  Western Australia   \n",
       "498  FRENCH POLYNESIA             Moorea   \n",
       "\n",
       "                                              Location Sex Age  Year  \n",
       "0                          Oceanside, San Diego County   F  57  2018  \n",
       "6                                Piedade Beach, Recife   M  18  2018  \n",
       "7    Lighhouse Point Park, Ponce Inlet, Volusia County   M  52  2018  \n",
       "8                         Cocoa Beach, Brevard  County   M  15  2018  \n",
       "10                                     Cairns Aquarium   M  32  2018  \n",
       "..                                                 ...  ..  ..   ...  \n",
       "490                   New Smyrna Beach, Volusia County   M  29  2014  \n",
       "492                   New Smyrna Beach, Volusia County   M  15  2014  \n",
       "495  Walls Beach, Vandenberg AFB, Santa Barbara County   M  28  2014  \n",
       "496                Kelpids Beach, Wylie Bay, Esperance   M  23  2014  \n",
       "498                                     Tiahura Lagoon   F  36  2014  \n",
       "\n",
       "[200 rows x 11 columns]"
      ]
     },
     "execution_count": 19,
     "metadata": {},
     "output_type": "execute_result"
    }
   ],
   "source": [
    "df=df.reindex(['Species','Type','Activity','Injury','Fatal','Country','Area','Location','Sex','Age','Year'], axis='columns')\n",
    "df=df.dropna()\n",
    "df = df.round(decimals=0).astype(object)\n",
    "df.head(200)"
   ]
  },
  {
   "cell_type": "code",
   "execution_count": 21,
   "metadata": {},
   "outputs": [],
   "source": [
    "df['Age']=df['Age'].str.extract('(\\d+)', expand=False)"
   ]
  },
  {
   "cell_type": "code",
   "execution_count": 22,
   "metadata": {},
   "outputs": [
    {
     "data": {
      "text/plain": [
       "<bound method Series.unique of 0       57.0\n",
       "6       18.0\n",
       "7       52.0\n",
       "8       15.0\n",
       "10      32.0\n",
       "        ... \n",
       "6226    19.0\n",
       "6239    36.0\n",
       "6242     6.0\n",
       "6243    16.0\n",
       "6265    13.0\n",
       "Name: Age, Length: 1865, dtype: float64>"
      ]
     },
     "execution_count": 22,
     "metadata": {},
     "output_type": "execute_result"
    }
   ],
   "source": [
    "df['Year']=df['Year'].dropna()\n",
    "df['Age'] = pd.to_numeric(df['Age'])\n",
    "df['Year'] = pd.to_numeric(df['Year'])\n",
    "df['Age'].unique\n",
    "df.loc[df['Year'] ==0, 'Year'] = 2018 - df['Age']"
   ]
  },
  {
   "cell_type": "code",
   "execution_count": 24,
   "metadata": {
    "scrolled": true
   },
   "outputs": [
    {
     "data": {
      "text/plain": [
       "2015.0    77\n",
       "2012.0    62\n",
       "2002.0    58\n",
       "2007.0    58\n",
       "2013.0    52\n",
       "          ..\n",
       "1906.0     1\n",
       "1899.0     1\n",
       "1880.0     1\n",
       "1894.0     1\n",
       "1919.0     1\n",
       "Name: Year, Length: 110, dtype: int64"
      ]
     },
     "execution_count": 24,
     "metadata": {},
     "output_type": "execute_result"
    }
   ],
   "source": [
    "df['Year'].value_counts()"
   ]
  },
  {
   "cell_type": "code",
   "execution_count": 25,
   "metadata": {
    "scrolled": true
   },
   "outputs": [
    {
     "name": "stdout",
     "output_type": "stream",
     "text": [
      "El primer año con ataque registrado es 1868 y el ultimo es 2018.\n"
     ]
    }
   ],
   "source": [
    "a=df['Year'].min() ,df['Year'].max()\n",
    "print (f\"El primer año con ataque registrado es {int(a[0])} y el ultimo es {int(a[1])}.\")"
   ]
  },
  {
   "cell_type": "code",
   "execution_count": 50,
   "metadata": {},
   "outputs": [],
   "source": [
    "df.drop(df.loc[df['Type']=='Invalid'].index, inplace=True)"
   ]
  },
  {
   "cell_type": "code",
   "execution_count": 51,
   "metadata": {},
   "outputs": [
    {
     "data": {
      "text/html": [
       "<div>\n",
       "<style scoped>\n",
       "    .dataframe tbody tr th:only-of-type {\n",
       "        vertical-align: middle;\n",
       "    }\n",
       "\n",
       "    .dataframe tbody tr th {\n",
       "        vertical-align: top;\n",
       "    }\n",
       "\n",
       "    .dataframe thead th {\n",
       "        text-align: right;\n",
       "    }\n",
       "</style>\n",
       "<table border=\"1\" class=\"dataframe\">\n",
       "  <thead>\n",
       "    <tr style=\"text-align: right;\">\n",
       "      <th></th>\n",
       "      <th>Species</th>\n",
       "      <th>Type</th>\n",
       "      <th>Activity</th>\n",
       "      <th>Injury</th>\n",
       "      <th>Fatal</th>\n",
       "      <th>Country</th>\n",
       "      <th>Area</th>\n",
       "      <th>Location</th>\n",
       "      <th>Sex</th>\n",
       "      <th>Age</th>\n",
       "      <th>Year</th>\n",
       "    </tr>\n",
       "  </thead>\n",
       "  <tbody>\n",
       "    <tr>\n",
       "      <th>0</th>\n",
       "      <td>White shark</td>\n",
       "      <td>Boating</td>\n",
       "      <td>Paddling</td>\n",
       "      <td>No injury to occupant, outrigger canoe and pad...</td>\n",
       "      <td>N</td>\n",
       "      <td>USA</td>\n",
       "      <td>California</td>\n",
       "      <td>Oceanside, San Diego County</td>\n",
       "      <td>F</td>\n",
       "      <td>57.0</td>\n",
       "      <td>2018.0</td>\n",
       "    </tr>\n",
       "    <tr>\n",
       "      <th>2381</th>\n",
       "      <td>6' shark</td>\n",
       "      <td>Unprovoked</td>\n",
       "      <td>Swimming</td>\n",
       "      <td>Leg bitten</td>\n",
       "      <td>N</td>\n",
       "      <td>USA</td>\n",
       "      <td>Florida</td>\n",
       "      <td>Tiger Shores Beach, Martin County</td>\n",
       "      <td>F</td>\n",
       "      <td>10.0</td>\n",
       "      <td>1995.0</td>\n",
       "    </tr>\n",
       "    <tr>\n",
       "      <th>2382</th>\n",
       "      <td>Tiger shark, 3.7 m [12']</td>\n",
       "      <td>Unprovoked</td>\n",
       "      <td>Swimming</td>\n",
       "      <td>Puncture wounds &amp; scratches to torso &amp; left leg</td>\n",
       "      <td>N</td>\n",
       "      <td>USA</td>\n",
       "      <td>Hawaii</td>\n",
       "      <td>Opposite Grand Wailea Resort, Wailea, Maui</td>\n",
       "      <td>M</td>\n",
       "      <td>38.0</td>\n",
       "      <td>1995.0</td>\n",
       "    </tr>\n",
       "    <tr>\n",
       "      <th>2386</th>\n",
       "      <td>Possibly a bull shark</td>\n",
       "      <td>Unprovoked</td>\n",
       "      <td>Surfing</td>\n",
       "      <td>Left foot bitten</td>\n",
       "      <td>N</td>\n",
       "      <td>USA</td>\n",
       "      <td>Florida</td>\n",
       "      <td>Vero Beach, Indian River County</td>\n",
       "      <td>M</td>\n",
       "      <td>15.0</td>\n",
       "      <td>1995.0</td>\n",
       "    </tr>\n",
       "    <tr>\n",
       "      <th>2414</th>\n",
       "      <td>2.7 m [9'] shark</td>\n",
       "      <td>Unprovoked</td>\n",
       "      <td>Surfing, paddling seawards</td>\n",
       "      <td>Right thigh &amp; board bitten</td>\n",
       "      <td>N</td>\n",
       "      <td>USA</td>\n",
       "      <td>Hawaii</td>\n",
       "      <td>Off the Hanalei River, Kaua'i</td>\n",
       "      <td>F</td>\n",
       "      <td>34.0</td>\n",
       "      <td>1994.0</td>\n",
       "    </tr>\n",
       "    <tr>\n",
       "      <th>...</th>\n",
       "      <td>...</td>\n",
       "      <td>...</td>\n",
       "      <td>...</td>\n",
       "      <td>...</td>\n",
       "      <td>...</td>\n",
       "      <td>...</td>\n",
       "      <td>...</td>\n",
       "      <td>...</td>\n",
       "      <td>...</td>\n",
       "      <td>...</td>\n",
       "      <td>...</td>\n",
       "    </tr>\n",
       "    <tr>\n",
       "      <th>4399</th>\n",
       "      <td>White shark,4.6 m [15']</td>\n",
       "      <td>Unprovoked</td>\n",
       "      <td>Body surfing &amp; treading water</td>\n",
       "      <td>FATAL, leg lacerated</td>\n",
       "      <td>Y</td>\n",
       "      <td>USA</td>\n",
       "      <td>California</td>\n",
       "      <td>Pacific Grove, Monterey Bay, Monterey County</td>\n",
       "      <td>M</td>\n",
       "      <td>17.0</td>\n",
       "      <td>1952.0</td>\n",
       "    </tr>\n",
       "    <tr>\n",
       "      <th>4400</th>\n",
       "      <td>&gt;6.7 m [22']  shark</td>\n",
       "      <td>Unprovoked</td>\n",
       "      <td>Swimming from fishing boat setting nets</td>\n",
       "      <td>FATAL, left arm severed below the elbow</td>\n",
       "      <td>Y</td>\n",
       "      <td>USA</td>\n",
       "      <td>Hawaii</td>\n",
       "      <td>Maile Beach, O'ahu</td>\n",
       "      <td>M</td>\n",
       "      <td>40.0</td>\n",
       "      <td>1952.0</td>\n",
       "    </tr>\n",
       "    <tr>\n",
       "      <th>3011</th>\n",
       "      <td>Said to involve a tiger shark or a hammerhead ...</td>\n",
       "      <td>Unprovoked</td>\n",
       "      <td>Swimming</td>\n",
       "      <td>FATAL, right calf bitten</td>\n",
       "      <td>Y</td>\n",
       "      <td>USA</td>\n",
       "      <td>Florida</td>\n",
       "      <td>Tampa Bay, Manatee County</td>\n",
       "      <td>M</td>\n",
       "      <td>26.0</td>\n",
       "      <td>1981.0</td>\n",
       "    </tr>\n",
       "    <tr>\n",
       "      <th>3753</th>\n",
       "      <td>Hand found in gut of 2.9 m to 3.3 m [9'7\" to 1...</td>\n",
       "      <td>Unprovoked</td>\n",
       "      <td>Swimming</td>\n",
       "      <td>FATAL, hand severed, shoulder, hip, foot, thig...</td>\n",
       "      <td>Y</td>\n",
       "      <td>USA</td>\n",
       "      <td>US Virgin Islands</td>\n",
       "      <td>St. Thomas, Magens Bay</td>\n",
       "      <td>M</td>\n",
       "      <td>25.0</td>\n",
       "      <td>1963.0</td>\n",
       "    </tr>\n",
       "    <tr>\n",
       "      <th>2150</th>\n",
       "      <td>Tiger shark</td>\n",
       "      <td>Unprovoked</td>\n",
       "      <td>Swimming</td>\n",
       "      <td>FATAL</td>\n",
       "      <td>Y</td>\n",
       "      <td>USA</td>\n",
       "      <td>Florida</td>\n",
       "      <td>Ocean Beach, Jaycee Park, Vero Beach, Indian R...</td>\n",
       "      <td>M</td>\n",
       "      <td>9.0</td>\n",
       "      <td>1998.0</td>\n",
       "    </tr>\n",
       "  </tbody>\n",
       "</table>\n",
       "<p>826 rows × 11 columns</p>\n",
       "</div>"
      ],
      "text/plain": [
       "                                                Species        Type  \\\n",
       "0                                           White shark     Boating   \n",
       "2381                                           6' shark  Unprovoked   \n",
       "2382                          Tiger shark, 3.7 m [12']   Unprovoked   \n",
       "2386                              Possibly a bull shark  Unprovoked   \n",
       "2414                                   2.7 m [9'] shark  Unprovoked   \n",
       "...                                                 ...         ...   \n",
       "4399                           White shark,4.6 m [15']   Unprovoked   \n",
       "4400                                >6.7 m [22']  shark  Unprovoked   \n",
       "3011  Said to involve a tiger shark or a hammerhead ...  Unprovoked   \n",
       "3753  Hand found in gut of 2.9 m to 3.3 m [9'7\" to 1...  Unprovoked   \n",
       "2150                                        Tiger shark  Unprovoked   \n",
       "\n",
       "                                     Activity  \\\n",
       "0                                    Paddling   \n",
       "2381                                 Swimming   \n",
       "2382                                 Swimming   \n",
       "2386                                  Surfing   \n",
       "2414               Surfing, paddling seawards   \n",
       "...                                       ...   \n",
       "4399            Body surfing & treading water   \n",
       "4400  Swimming from fishing boat setting nets   \n",
       "3011                                 Swimming   \n",
       "3753                                 Swimming   \n",
       "2150                                 Swimming   \n",
       "\n",
       "                                                 Injury Fatal Country  \\\n",
       "0     No injury to occupant, outrigger canoe and pad...     N     USA   \n",
       "2381                                         Leg bitten     N     USA   \n",
       "2382   Puncture wounds & scratches to torso & left leg      N     USA   \n",
       "2386                                   Left foot bitten     N     USA   \n",
       "2414                         Right thigh & board bitten     N     USA   \n",
       "...                                                 ...   ...     ...   \n",
       "4399                             FATAL, leg lacerated       Y     USA   \n",
       "4400           FATAL, left arm severed below the elbow      Y     USA   \n",
       "3011                         FATAL, right calf bitten       Y     USA   \n",
       "3753  FATAL, hand severed, shoulder, hip, foot, thig...     Y     USA   \n",
       "2150                                              FATAL     Y     USA   \n",
       "\n",
       "                   Area                                           Location  \\\n",
       "0            California                        Oceanside, San Diego County   \n",
       "2381            Florida                  Tiger Shores Beach, Martin County   \n",
       "2382             Hawaii         Opposite Grand Wailea Resort, Wailea, Maui   \n",
       "2386            Florida                    Vero Beach, Indian River County   \n",
       "2414             Hawaii                      Off the Hanalei River, Kaua'i   \n",
       "...                 ...                                                ...   \n",
       "4399         California       Pacific Grove, Monterey Bay, Monterey County   \n",
       "4400             Hawaii                                 Maile Beach, O'ahu   \n",
       "3011            Florida                          Tampa Bay, Manatee County   \n",
       "3753  US Virgin Islands                             St. Thomas, Magens Bay   \n",
       "2150            Florida  Ocean Beach, Jaycee Park, Vero Beach, Indian R...   \n",
       "\n",
       "     Sex   Age    Year  \n",
       "0      F  57.0  2018.0  \n",
       "2381   F  10.0  1995.0  \n",
       "2382   M  38.0  1995.0  \n",
       "2386   M  15.0  1995.0  \n",
       "2414   F  34.0  1994.0  \n",
       "...   ..   ...     ...  \n",
       "4399   M  17.0  1952.0  \n",
       "4400   M  40.0  1952.0  \n",
       "3011   M  26.0  1981.0  \n",
       "3753   M  25.0  1963.0  \n",
       "2150   M   9.0  1998.0  \n",
       "\n",
       "[826 rows x 11 columns]"
      ]
     },
     "execution_count": 51,
     "metadata": {},
     "output_type": "execute_result"
    }
   ],
   "source": [
    "#df.plot.bar(y='Year', rot=0)\n",
    "USA=df[df['Country']=='USA'].sort_values(by=\"Fatal\")\n",
    "USA"
   ]
  },
  {
   "cell_type": "code",
   "execution_count": 52,
   "metadata": {},
   "outputs": [
    {
     "name": "stdout",
     "output_type": "stream",
     "text": [
      "Han transcurrido 150 años entre el primer ataque registrado y el ultimo.\n"
     ]
    }
   ],
   "source": [
    "df['Year'].value_counts()\n",
    "df['Year'].min()\n",
    "Rango_ataques=int(df['Year'].max()-df['Year'].min())\n",
    "Rango_ataques\n",
    "print(f'Han transcurrido {Rango_ataques} años entre el primer ataque registrado y el ultimo.')"
   ]
  },
  {
   "cell_type": "code",
   "execution_count": 53,
   "metadata": {},
   "outputs": [
    {
     "name": "stdout",
     "output_type": "stream",
     "text": [
      "La edad media de los que han sufrido un ataque es de 28.184823848238484\n"
     ]
    }
   ],
   "source": [
    "Age_Mean=df[\"Age\"].mean()\n",
    "print(f\"La edad media de los que han sufrido un ataque es de {Age_Mean}\")"
   ]
  },
  {
   "cell_type": "code",
   "execution_count": 54,
   "metadata": {},
   "outputs": [
    {
     "name": "stdout",
     "output_type": "stream",
     "text": [
      "La edad maxima registrada del superviviente masculino es de: 73.0, la de las mujeres supervivientes es de: 70.0\n",
      " por otro lado la del fallecido masculino mas adulto de: 84.0 y la de la mujer fallecida es de: 77.0\n",
      "La edad minima registrada del superviviente masculino es de: 5.0), la de las mujeres supervivientes es de: 6.0\n",
      " por otro lado la del fallecido masculino mas joven de: 7.0 y la de la mujer fallecida es de: 7.0\n",
      "La edad media de supervivientes masculinos es de: Age    28.312915\n",
      "dtype: float64, la de las mujeres es de : Age    27.574257\n",
      "dtype: float64, por otro lado, la edad media de los fallecidos masculinos era de: Age    27.295833\n",
      "dtype: float64 y la de las mujeres de: Age    30.97619\n",
      "dtype: float64\n"
     ]
    }
   ],
   "source": [
    "a=df.loc[(df['Fatal']=='N') & (df['Sex']=='M' )& (df['Age']),['Fatal','Sex','Age']]\n",
    "b=df.loc[(df['Fatal']=='N') & (df['Sex']=='F' )& (df['Age']),['Fatal','Sex','Age']]\n",
    "c=df.loc[(df['Fatal']=='Y') & (df['Sex']=='M' )& (df['Age']),['Fatal','Sex','Age']]\n",
    "d=df.loc[(df['Fatal']=='Y') & (df['Sex']=='F' )& (df['Age']),['Fatal','Sex','Age']]\n",
    "print (f\"La edad maxima registrada del superviviente masculino es de: {a['Age'].max()}, la de las mujeres supervivientes es de: {b['Age'].max()}\\n por otro lado la del fallecido masculino mas adulto de: {c['Age'].max()} y la de la mujer fallecida es de: {d['Age'].max()}\")\n",
    "\n",
    "\n",
    "print (f\"La edad minima registrada del superviviente masculino es de: {a['Age'].min()}), la de las mujeres supervivientes es de: {b['Age'].min()}\\n por otro lado la del fallecido masculino mas joven de: {c['Age'].min()} y la de la mujer fallecida es de: {d['Age'].min()}\")\n",
    "\n",
    "\n",
    "\n",
    "print (f'La edad media de supervivientes masculinos es de: {a.mean()}, la de las mujeres es de : {b.mean()}, por otro lado, la edad media de los fallecidos masculinos era de: {c.mean()} y la de las mujeres de: {d.mean()}')"
   ]
  },
  {
   "cell_type": "code",
   "execution_count": 55,
   "metadata": {},
   "outputs": [
    {
     "name": "stdout",
     "output_type": "stream",
     "text": [
      " La edad maxima de los atacados es de 84.0 y la minima de 5.0\n"
     ]
    }
   ],
   "source": [
    "print (f\" La edad maxima de los atacados es de {df['Age'].max()} y la minima de {df['Age'].min()}\")\n"
   ]
  },
  {
   "cell_type": "code",
   "execution_count": 56,
   "metadata": {},
   "outputs": [
    {
     "name": "stdout",
     "output_type": "stream",
     "text": [
      "(1566, 283)\n",
      "El numero total de supervivientes es de 1566 y de fallecidos es de 283 .\n"
     ]
    }
   ],
   "source": [
    "def len_fa(df):\n",
    "    return len(df[df['Fatal'] == 'N']),len(df[df['Fatal'] == 'Y'])\n",
    "print(len_fa(df))\n",
    "print(f\"El numero total de supervivientes es de {len_fa(df)[0]} y de fallecidos es de {len_fa(df)[1]} .\")"
   ]
  },
  {
   "cell_type": "code",
   "execution_count": 57,
   "metadata": {},
   "outputs": [
    {
     "name": "stdout",
     "output_type": "stream",
     "text": [
      "EL numero de mujeres registradas es de 246 y el de hombres es de 1607.\n"
     ]
    }
   ],
   "source": [
    "def len_gen(df):\n",
    "    return len(df[df['Sex'] == 'F']),len(df[df['Sex'] == 'M'])\n",
    "len_gen(df)\n",
    "print(f\"EL numero de mujeres registradas es de {len_gen(df)[0]} y el de hombres es de {len_gen(df)[1]}.\")"
   ]
  },
  {
   "cell_type": "code",
   "execution_count": 58,
   "metadata": {},
   "outputs": [
    {
     "name": "stdout",
     "output_type": "stream",
     "text": [
      "EL numero de hombres vivos es de 1361.\n"
     ]
    }
   ],
   "source": [
    "pl=df.loc[(df['Fatal']=='N') & (df['Sex']=='M' ),['Fatal','Sex']]\n",
    "(np.sum(pl, axis=1).tolist)\n",
    "len(pl)\n",
    "#EL numero de hombres muertos es de {len(dpm)}\n",
    "print (f\"EL numero de hombres vivos es de {len(pl)}.\")"
   ]
  },
  {
   "cell_type": "code",
   "execution_count": 59,
   "metadata": {},
   "outputs": [
    {
     "name": "stdout",
     "output_type": "stream",
     "text": [
      "EL numero de mujeres vivas es de 204\n"
     ]
    }
   ],
   "source": [
    "lmu=df.loc[(df['Fatal']=='N') & (df['Sex']=='F' ),['Fatal','Sex']]\n",
    "np.sum(lmu, axis=1).tolist\n",
    "len(lmu)\n",
    "print (f\"EL numero de mujeres vivas es de {len(lmu)}\")\n"
   ]
  },
  {
   "cell_type": "code",
   "execution_count": 60,
   "metadata": {},
   "outputs": [
    {
     "name": "stdout",
     "output_type": "stream",
     "text": [
      "EL numero de hombres muertos es de 241\n"
     ]
    }
   ],
   "source": [
    "depm=df.loc[(df['Fatal']=='Y') & (df['Sex']=='M' ),['Fatal','Sex']]\n",
    "(np.sum(depm, axis=1).tolist)\n",
    "len(depm)\n",
    "#EL numero de hombres muertos es de {len(dpm)}\n",
    "print (f\"EL numero de hombres muertos es de {len(depm)}\")"
   ]
  },
  {
   "cell_type": "code",
   "execution_count": 61,
   "metadata": {},
   "outputs": [
    {
     "name": "stdout",
     "output_type": "stream",
     "text": [
      "EL numero de mujeres muertas es de 42\n"
     ]
    }
   ],
   "source": [
    "depmu=df.loc[(df['Fatal']=='Y') & (df['Sex']=='F' ),['Fatal','Sex']]\n",
    "np.sum(depmu, axis=1).tolist\n",
    "len(depmu)\n",
    "print (f\"EL numero de mujeres muertas es de {len(depmu)}\")\n"
   ]
  },
  {
   "cell_type": "code",
   "execution_count": 62,
   "metadata": {},
   "outputs": [
    {
     "data": {
      "text/plain": [
       "18.071519795657725"
      ]
     },
     "execution_count": 62,
     "metadata": {},
     "output_type": "execute_result"
    }
   ],
   "source": [
    "Leth= (len(df[df['Fatal'] == 'Y'])*100/len(df[df['Fatal'] == 'N']))\n",
    "Leth\n",
    "#La letalidad de los ataques mostrados es de 18.22"
   ]
  },
  {
   "cell_type": "code",
   "execution_count": 63,
   "metadata": {},
   "outputs": [
    {
     "name": "stdout",
     "output_type": "stream",
     "text": [
      "El total de casos provocados es de 390 y el de casos no provocados: 1464, de los cuales solo 4 han sido provocados y mortales.\n"
     ]
    }
   ],
   "source": [
    "SuPr=df.loc[(df['Fatal']=='N') & (df['Type']=='Provoked' ),['Fatal','Type']]\n",
    "LePr=df.loc[(df['Fatal']=='Y') & (df['Type']=='Provoked' ),['Fatal','Type']]\n",
    "SuPr.size, LePr.size, df['Type'].size\n",
    "tnp=(df['Type'].size)- (SuPr.size+LePr.size)\n",
    "print (f'El total de casos provocados es de {SuPr.size+LePr.size} y el de casos no provocados: {tnp}, de los cuales solo {LePr.size} han sido provocados y mortales.')\n",
    "#ataques provocados y letalidad "
   ]
  },
  {
   "cell_type": "code",
   "execution_count": 71,
   "metadata": {},
   "outputs": [
    {
     "data": {
      "text/plain": [
       "Unprovoked      1624\n",
       "Provoked         197\n",
       "Boating           25\n",
       "Sea Disaster       7\n",
       "Boat               1\n",
       "Name: Type, dtype: int64"
      ]
     },
     "execution_count": 71,
     "metadata": {},
     "output_type": "execute_result"
    }
   ],
   "source": [
    "df['Type'].value_counts()"
   ]
  },
  {
   "cell_type": "code",
   "execution_count": 65,
   "metadata": {},
   "outputs": [
    {
     "name": "stdout",
     "output_type": "stream",
     "text": [
      "USA                               826\n",
      "AUSTRALIA                         432\n",
      "SOUTH AFRICA                      247\n",
      "BAHAMAS                            33\n",
      "NEW ZEALAND                        31\n",
      "                                 ... \n",
      "NEW GUINEA                          1\n",
      "BRITISH ISLES                       1\n",
      "ISRAEL                              1\n",
      "GRAND CAYMAN                        1\n",
      "FEDERATED STATES OF MICRONESIA      1\n",
      "Name: Country, Length: 80, dtype: int64\n",
      "Unprovoked      1624\n",
      "Provoked         197\n",
      "Boating           25\n",
      "Sea Disaster       7\n",
      "Boat               1\n",
      "Name: Type, dtype: int64\n"
     ]
    }
   ],
   "source": [
    "print(df['Country'].value_counts())\n",
    "\n",
    "print(df['Type'].value_counts())"
   ]
  },
  {
   "cell_type": "code",
   "execution_count": 66,
   "metadata": {},
   "outputs": [
    {
     "data": {
      "text/plain": [
       "['White shark',\n",
       " 'Tiger shark',\n",
       " \"4' shark\",\n",
       " 'Bull shark',\n",
       " \"6' shark\",\n",
       " \"1.8 m [6'] shark\",\n",
       " \"1.2 m [4'] shark\",\n",
       " \"4' to 5' shark\",\n",
       " \"3' shark\",\n",
       " \"1.5 m [5'] shark\"]"
      ]
     },
     "execution_count": 66,
     "metadata": {},
     "output_type": "execute_result"
    }
   ],
   "source": [
    "df['Species'].value_counts()\n",
    "#df.Species.mode() dato mas frecuente\n",
    "n = 10\n",
    "df['Species'].value_counts()[:n].index.tolist()\n",
    "#lista top ten bichos malos"
   ]
  },
  {
   "cell_type": "code",
   "execution_count": 44,
   "metadata": {},
   "outputs": [
    {
     "data": {
      "text/plain": [
       "<bound method Series.unique of 1574                                1.8 m [6'] bull shark\n",
       "5223                                     1.8 m [6'] shark\n",
       "2716                                 3 m [10'] bull shark\n",
       "5305                                      3 m [10'] shark\n",
       "5571                                      3 m [10'] shark\n",
       "4370                     3 m [10'] shark seen in vicinity\n",
       "2343                 3 m to 3.7 m [10' to 12'] bull shark\n",
       "4070                                    3.7 m [12'] shark\n",
       "3264                                   3.7 m [12'] sharks\n",
       "2884                             4.5 m to 5 m white shark\n",
       "1750              4.5 m to 5.5 m [15' to 18'] white shark\n",
       "1645              4.9 m to 5.5 m [16' to 18'] white shark\n",
       "2696                              5 m [16.5'] white shark\n",
       "2411              5 m to 5.5 m [16.5' to 18'] white shark\n",
       "2999                                7 m [23'] white shark\n",
       "4400                                  >6.7 m [22']  shark\n",
       "1907    A large white shark was filmed by divers on a ...\n",
       "3753    Hand found in gut of 2.9 m to 3.3 m [9'7\" to 1...\n",
       "1843                                  Mako shark, 400-lb \n",
       "4570                                   Possibly C. leucas\n",
       "4968                 Possibly a bull shark or tiger shark\n",
       "4091    Reported to involve a White shark, 6 m to 7m [...\n",
       "3011    Said to involve a tiger shark or a hammerhead ...\n",
       "5311        Thought to involve a 2.6 m [8.5'] white shark\n",
       "2019    Thought to involve a 2.7 m [9'], 400-lb bull s...\n",
       "1680                                          Tiger shark\n",
       "2150                                          Tiger shark\n",
       "2574               Tiger shark, 2.4 m 3.4 m [8' to 11']  \n",
       "2526              Tiger shark, 3 m to 3.7 m [10' to 12'] \n",
       "4130            Tiger shark, 4.6 m to 7.6 m [15' to 25'] \n",
       "639                                          Tiger shark?\n",
       "3800                                              Unknown\n",
       "4194                                          White shark\n",
       "4200                                          White shark\n",
       "4874          White shark (identified by Dr. Hugh Smith) \n",
       "1268                              White shark, 12' to 15'\n",
       "978                              White shark, 14' to 18' \n",
       "728                              White shark, 15' to 16' \n",
       "4095    White shark, 3 m [10']; identifed by Dr. W.I. ...\n",
       "4399                             White shark,4.6 m [15'] \n",
       "1910                                           bull shark\n",
       "3263                                        small sharks'\n",
       "Name: Species, dtype: object>"
      ]
     },
     "execution_count": 44,
     "metadata": {},
     "output_type": "execute_result"
    }
   ],
   "source": [
    "tico=  df[[\"Country\",\"Species\",'Fatal']].sort_values(by=\"Species\")\n",
    "a=tico.loc[(tico['Fatal']=='Y') & (tico['Country']=='USA' )& (tico['Species']),['Country','Species','Fatal']]\n",
    "a['Species'].unique"
   ]
  },
  {
   "cell_type": "code",
   "execution_count": 48,
   "metadata": {},
   "outputs": [
    {
     "data": {
      "text/plain": [
       "120"
      ]
     },
     "execution_count": 48,
     "metadata": {},
     "output_type": "execute_result"
    }
   ],
   "source": [
    "coty=  df[[\"Country\",\"Type\",'Fatal']].sort_values(by=\"Country\")\n",
    "# Relacionar tipo de bicho con los mas letales y paises mas afectados.\n",
    "a=coty.loc[(coty['Fatal']=='Y') & (coty['Country']=='USA' )& (coty['Type']=='Unprovoked'),['Country','Type','Fatal']]\n",
    "a.size"
   ]
  },
  {
   "cell_type": "code",
   "execution_count": 46,
   "metadata": {},
   "outputs": [
    {
     "data": {
      "text/plain": [
       "'Checklist cosas a hacer:\\nimportar la data V\\nentender la data\\nestablecer un objetivo\\nlimpiar la data\\nrealizar calculos\\nrefrendar o refutar la teoria\\n'"
      ]
     },
     "execution_count": 46,
     "metadata": {},
     "output_type": "execute_result"
    }
   ],
   "source": [
    "'''Checklist cosas a hacer:\n",
    "importar la data V\n",
    "entender la data\n",
    "establecer un objetivo\n",
    "limpiar la data\n",
    "realizar calculos\n",
    "refrendar o refutar la teoria\n",
    "'''"
   ]
  },
  {
   "cell_type": "code",
   "execution_count": 47,
   "metadata": {
    "scrolled": true
   },
   "outputs": [
    {
     "data": {
      "text/plain": [
       "'df = df[df[\\'Sex\\'] != \"lli\"]\\ndf = df[df[\\'Sex\\'] != \"N\"]\\n\\ndf = df[df[\\'Fatal\\'] !=\\'UNKNOWN\\']\\ndf = df[df[\\'Fatal\\'] !=\\'2017\\']\\ndf = df[df[\\'Fatal\\'] !=\\'M\\']\\n\\ndf[\\'Fatal\\'] = df[\\'Fatal\\'].str.replace(\" \",\"\")\\nLetGen=df[[\\'Sex\\',\\'Fatal\\']].sort_values(by=\"Sex\")\\nLetGen = LetGen[LetGen[\\'Fatal\\'].notna()]\\nLetGen= LetGen.drop(df.index[786])\\nLetGen = LetGen[LetGen[\\'Sex\\'].notna()]\\nShow= LetGen.Fatal.unique()\\nShow'"
      ]
     },
     "execution_count": 47,
     "metadata": {},
     "output_type": "execute_result"
    }
   ],
   "source": [
    "'''df = df[df['Sex'] != \"lli\"]\n",
    "df = df[df['Sex'] != \"N\"]\n",
    "\n",
    "df = df[df['Fatal'] !='UNKNOWN']\n",
    "df = df[df['Fatal'] !='2017']\n",
    "df = df[df['Fatal'] !='M']\n",
    "\n",
    "df['Fatal'] = df['Fatal'].str.replace(\" \",\"\")\n",
    "LetGen=df[['Sex','Fatal']].sort_values(by=\"Sex\")\n",
    "LetGen = LetGen[LetGen['Fatal'].notna()]\n",
    "LetGen= LetGen.drop(df.index[786])\n",
    "LetGen = LetGen[LetGen['Sex'].notna()]\n",
    "Show= LetGen.Fatal.unique()\n",
    "Show'''"
   ]
  },
  {
   "cell_type": "code",
   "execution_count": null,
   "metadata": {},
   "outputs": [],
   "source": []
  },
  {
   "cell_type": "code",
   "execution_count": null,
   "metadata": {},
   "outputs": [],
   "source": []
  },
  {
   "cell_type": "code",
   "execution_count": null,
   "metadata": {},
   "outputs": [],
   "source": []
  },
  {
   "cell_type": "code",
   "execution_count": null,
   "metadata": {},
   "outputs": [],
   "source": []
  }
 ],
 "metadata": {
  "kernelspec": {
   "display_name": "Python 3",
   "language": "python",
   "name": "python3"
  },
  "language_info": {
   "codemirror_mode": {
    "name": "ipython",
    "version": 3
   },
   "file_extension": ".py",
   "mimetype": "text/x-python",
   "name": "python",
   "nbconvert_exporter": "python",
   "pygments_lexer": "ipython3",
   "version": "3.7.6"
  }
 },
 "nbformat": 4,
 "nbformat_minor": 4
}
