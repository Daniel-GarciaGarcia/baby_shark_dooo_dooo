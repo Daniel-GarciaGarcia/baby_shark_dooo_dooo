{
 "cells": [
  {
   "cell_type": "code",
   "execution_count": 1,
   "metadata": {},
   "outputs": [],
   "source": [
    "import pandas as pd\n",
    "from collections import Counter\n",
    "import matplotlib.pyplot as plt\n",
    "import numpy as np\n",
    "import statistics \n",
    "\n",
    "df= pd.read_csv(\"/home/danielgarcia/baby_shark_dooo_dooo/input/attacks.csv\", encoding='latin-1')"
   ]
  },
  {
   "cell_type": "code",
   "execution_count": 2,
   "metadata": {},
   "outputs": [],
   "source": [
    "df=df.rename(columns={'Species ': 'Species','Sex ': 'Sex','Fatal (Y/N)': 'Fatal'},)"
   ]
  },
  {
   "cell_type": "code",
   "execution_count": 3,
   "metadata": {},
   "outputs": [],
   "source": [
    "df=df.reindex(['Species','Type','Activity','Injury','Fatal','Country','Area','Location','Sex','Age','Year'], axis='columns')\n",
    "df=df.dropna()\n",
    "df = df.round(decimals=0).astype(object)"
   ]
  },
  {
   "cell_type": "code",
   "execution_count": 4,
   "metadata": {},
   "outputs": [],
   "source": [
    "df['Age']=df['Age'].str.extract('(\\d+)', expand=False)"
   ]
  },
  {
   "cell_type": "code",
   "execution_count": 5,
   "metadata": {},
   "outputs": [],
   "source": [
    "df['Year']=df['Year'].dropna()\n",
    "df['Age'] = pd.to_numeric(df['Age'])\n",
    "df['Year'] = pd.to_numeric(df['Year'])\n",
    "df['Age'].unique\n",
    "df.loc[df['Year'] ==0, 'Year'] = 2018 - df['Age']"
   ]
  },
  {
   "cell_type": "markdown",
   "metadata": {},
   "source": [
    "# ¿Cuan peligrosos son los ataques de tiburones hacia los seres humanos?"
   ]
  },
  {
   "cell_type": "code",
   "execution_count": 6,
   "metadata": {
    "scrolled": true
   },
   "outputs": [
    {
     "name": "stdout",
     "output_type": "stream",
     "text": [
      "El primer año con ataque registrado es 1868 y el ultimo es 2018.\n"
     ]
    }
   ],
   "source": [
    "a=df['Year'].min() ,df['Year'].max()\n",
    "df.drop(df.loc[df['Type']=='Invalid'].index, inplace=True)\n",
    "#print (f\"El primer año con ataque registrado es {int(a[0])} y el ultimo es {int(a[1])}.\")"
   ]
  },
  {
   "cell_type": "markdown",
   "metadata": {},
   "source": [
    "### El DataSet  nos muestra informacion recopilada entre 1868 y 2018, esto son 150 años de informacion recopilada a largo de todo el globo terraqueo."
   ]
  },
  {
   "cell_type": "code",
   "execution_count": 7,
   "metadata": {},
   "outputs": [
    {
     "data": {
      "text/plain": [
       "150"
      ]
     },
     "execution_count": 7,
     "metadata": {},
     "output_type": "execute_result"
    }
   ],
   "source": [
    "df['Year'].value_counts()\n",
    "df['Year'].min()\n",
    "Rango_ataques=int(df['Year'].max()-df['Year'].min())\n"
   ]
  },
  {
   "cell_type": "markdown",
   "metadata": {},
   "source": [
    "#### Puesto que queremos ver si realmente los tiburones son tan peligrosos para los humanos analizaremos los datos relacionados con el genero, la edad y si el ataque fue definitivo o se quedo en un susto.                                                                         El primer dato calculado es la edad media de los participantes en el estudio, observamos que son 28 años, la mediana con 25 y la desviacion tipica es de 13.  Los valores extremos son 84 años y 5 años, la edad dividida por cuartiles nos indican grandes varianzas, mientras que el cuartil 0,5 se situa en los 25 años (coincidiendo con la mediana y siendo un poco menor que la media) , el 3 cuantil nos situa en los 36 años vemos un tremendo gap hasta el final con los 84 años. "
   ]
  },
  {
   "cell_type": "code",
   "execution_count": 8,
   "metadata": {},
   "outputs": [],
   "source": [
    "Age_Mean=df[\"Age\"].mean()\n",
    "Age_Median=df[\"Age\"].median()\n",
    "Age_std=df[\"Age\"].std()\n",
    "#print(f\"La edad media de los que han sufrido un ataque es de {int(Age_Mean)}, el valor mas repetido, esto es, la mediana con {int(Age_Median)} y la desviacion es {int(Age_std)}.\")\n",
    "#print (f\"La edad maxima de los atacados es de {int(df['Age'].max())} y la minima de {int(df['Age'].min())}\")\n",
    "a=df['Age'].quantile([0.25,0.5,0.75,1]).quantile\n"
   ]
  },
  {
   "cell_type": "markdown",
   "metadata": {},
   "source": [
    "### El numero total de voluntarios que se ofrecieron para realizar el estudio es de 1844.Si empezamos a aplicar filtros veremos informacion mas precisa, yo he decidido utilizar filtros demograficos para ver si hay patrones que se repiten, tambien desglose la informacion en base a si la victima era una victima mortal o no puesto que estaba interesado en ver informacion relacionada. "
   ]
  },
  {
   "cell_type": "code",
   "execution_count": 9,
   "metadata": {},
   "outputs": [
    {
     "data": {
      "text/plain": [
       "(246, 1607)"
      ]
     },
     "execution_count": 9,
     "metadata": {},
     "output_type": "execute_result"
    }
   ],
   "source": [
    "def len_gen(df):\n",
    "    return len(df[df['Sex'] == 'F']),len(df[df['Sex'] == 'M'])\n",
    "#len_gen(df)\n",
    "#print(f\"EL numero de mujeres registradas es de {len_gen(df)[0]} y el de hombres es de {len_gen(df)[1]}.\")"
   ]
  },
  {
   "cell_type": "code",
   "execution_count": 10,
   "metadata": {},
   "outputs": [],
   "source": [
    "def len_fa(df):\n",
    "    return len(df[df['Fatal'] == 'N']),len(df[df['Fatal'] == 'Y'])\n",
    "#print(len_fa(df))\n",
    "#print(f\"El numero total de supervivientes es de {len_fa(df)[0]} y de fallecidos es de {len_fa(df)[1]} .\")"
   ]
  },
  {
   "cell_type": "markdown",
   "metadata": {},
   "source": [
    "### Ciñendonos al genero podemos observar que los hombres suelen mas aventureros o insconcientes (dependiendo de como queramos denominarlo) pero frente a la desviacion media femenina situada en los 18 años la de los hombres es de tan solo 13 años, huelga decir que esto fue de las victimas mortales. Basandonos en los supervivientes vemos que la de los hombres supervivientes es practicamente igual mientras que la de la mujer es incluso menor, posicionandose en los 16 años, poca diferencia pero que puede ser crucial para el desarrollo de uno (ya sea personalmente o como comida para tiburones). Las victimas letales mas longevas se situan en 84 (por lo tanto el rango maximo de la muestra no lo consiguio) masculino y 77 femenina, los menores  son 5 y 6 (y por lo tanto la muestra menor del estudio sobrevivio). No obstante los menores fallecidos ambos poseian 7 años"
   ]
  },
  {
   "cell_type": "code",
   "execution_count": 11,
   "metadata": {},
   "outputs": [
    {
     "data": {
      "text/plain": [
       "'print (int(c.median()[0]))\\nprint(c.std()[0])\\nprint (int(d.median()[0]))\\nprint(d.std()[0])\\nprint (int(c.median()[0]))\\nprint(c.std()[0])\\nprint (int(d.median()[0]))\\nprint(d.std()[0])\\nprint (f\"La edad maxima registrada del superviviente masculino es de: {int(a[\\'Age\\'].max())}\\nLa de las mujeres supervivientes es de: {int(b[\\'Age\\'].max())}\\nPor otro lado la del fallecido masculino mas adulto de: {int(c[\\'Age\\'].max())} y la de la mujer fallecida es de: {int(d[\\'Age\\'].max())}\")\\n\\n\\nprint (f\"La edad minima registrada del superviviente masculino es de: {int(a[\\'Age\\'].min())}\\nLa edad minima de las mujeres supervivientes es de: {int(b[\\'Age\\'].min())}\\nPor otro lado la del fallecido masculino mas joven de: {int(c[\\'Age\\'].min())} y la de la mujer fallecida es de: {int(d[\\'Age\\'].min())}\\n\\n\")\\n\\n\\n\\nprint (f\\'La edad media de supervivientes masculinos es de: {a.mean()[0]}\\nLa de las mujeres supervivientes es de : {b.mean()[0]}\\nLa edad media de los fallecidos masculinos era de: {c.mean()[0]}\\nLa de las mujeres fallecidas de: {d.mean()[0]}\\')'"
      ]
     },
     "execution_count": 11,
     "metadata": {},
     "output_type": "execute_result"
    }
   ],
   "source": [
    "a=df.loc[(df['Fatal']=='N') & (df['Sex']=='M' )& (df['Age']),['Fatal','Sex','Age']]\n",
    "b=df.loc[(df['Fatal']=='N') & (df['Sex']=='F' )& (df['Age']),['Fatal','Sex','Age']]\n",
    "c=df.loc[(df['Fatal']=='Y') & (df['Sex']=='M' )& (df['Age']),['Fatal','Sex','Age']]\n",
    "d=df.loc[(df['Fatal']=='Y') & (df['Sex']=='F' )& (df['Age']),['Fatal','Sex','Age']]\n",
    "#'''print (int(c.median()[0]))\n",
    "#print(c.std()[0])\n",
    "#print (int(d.median()[0]))\n",
    "#print(d.std()[0])\n",
    "#print (int(c.median()[0]))\n",
    "#print(c.std()[0])\n",
    "#print (int(d.median()[0]))\n",
    "#print(d.std()[0])\n",
    "#print (f\"La edad maxima registrada del superviviente masculino es de: {int(a['Age'].max())}\\nLa de las mujeres supervivientes es de: {int(b['Age'].max())}\\nPor otro lado la del fallecido masculino mas adulto de: {int(c['Age'].max())} y la de la mujer fallecida es de: {int(d['Age'].max())}\")\n",
    "\n",
    "\n",
    "#print (f\"La edad minima registrada del superviviente masculino es de: {int(a['Age'].min())}\\nLa edad minima de las mujeres supervivientes es de: {int(b['Age'].min())}\\nPor otro lado la del fallecido masculino mas joven de: {int(c['Age'].min())} y la de la mujer fallecida es de: {int(d['Age'].min())}\\n\\n\")\n",
    "\n",
    "\n",
    "\n",
    "#print (f'La edad media de supervivientes masculinos es de: {a.mean()[0]}\\nLa de las mujeres supervivientes es de : {b.mean()[0]}\\nLa edad media de los fallecidos masculinos era de: {c.mean()[0]}\\nLa de las mujeres fallecidas de: {d.mean()[0]}')'''"
   ]
  },
  {
   "cell_type": "markdown",
   "metadata": {},
   "source": [
    "###  Mientras que la edad media de los supervivientes masculinos es de 28.3 años la de las mujeres es de 27.54, con los fallecimientos se invierte y es la mujer la que posee mas edad(30años) vs 27 del hombre"
   ]
  },
  {
   "cell_type": "code",
   "execution_count": 12,
   "metadata": {},
   "outputs": [
    {
     "data": {
      "text/plain": [
       "1361"
      ]
     },
     "execution_count": 12,
     "metadata": {},
     "output_type": "execute_result"
    }
   ],
   "source": [
    "pl=df.loc[(df['Fatal']=='N') & (df['Sex']=='M' ),['Fatal','Sex']]\n",
    "(np.sum(pl, axis=1).tolist)\n",
    "#len(pl)\n",
    "#print (f\"EL numero de hombres vivos es de {len(pl)}.\")"
   ]
  },
  {
   "cell_type": "code",
   "execution_count": 13,
   "metadata": {},
   "outputs": [
    {
     "data": {
      "text/plain": [
       "204"
      ]
     },
     "execution_count": 13,
     "metadata": {},
     "output_type": "execute_result"
    }
   ],
   "source": [
    "lmu=df.loc[(df['Fatal']=='N') & (df['Sex']=='F' ),['Fatal','Sex']]\n",
    "np.sum(lmu, axis=1).tolist\n",
    "len(lmu)\n",
    "#print (f\"EL numero de mujeres vivas es de {len(lmu)}\")\n"
   ]
  },
  {
   "cell_type": "code",
   "execution_count": 20,
   "metadata": {},
   "outputs": [
    {
     "data": {
      "text/plain": [
       "241"
      ]
     },
     "execution_count": 20,
     "metadata": {},
     "output_type": "execute_result"
    }
   ],
   "source": [
    "depm=df.loc[(df['Fatal']=='Y') & (df['Sex']=='M' ),['Fatal','Sex']]\n",
    "(np.sum(depm, axis=1).tolist)\n",
    "len(depm)\n"
   ]
  },
  {
   "cell_type": "code",
   "execution_count": 19,
   "metadata": {},
   "outputs": [
    {
     "data": {
      "text/plain": [
       "42"
      ]
     },
     "execution_count": 19,
     "metadata": {},
     "output_type": "execute_result"
    }
   ],
   "source": [
    "depmu=df.loc[(df['Fatal']=='Y') & (df['Sex']=='F' ),['Fatal','Sex']]\n",
    "np.sum(depmu, axis=1).tolist\n",
    "len(depmu)\n"
   ]
  },
  {
   "cell_type": "markdown",
   "metadata": {},
   "source": [
    "### El total de supervivientes por genero es de 1.361(73%) vs 204(11%)  de la muestra total.  El numero de hombres fallecidos es de 240 siendo esto un 13% frente a un 2% (42 victimas ) femeninas."
   ]
  },
  {
   "cell_type": "code",
   "execution_count": 16,
   "metadata": {},
   "outputs": [
    {
     "data": {
      "text/plain": [
       "18.071519795657725"
      ]
     },
     "execution_count": 16,
     "metadata": {},
     "output_type": "execute_result"
    }
   ],
   "source": [
    "Leth= (len(df[df['Fatal'] == 'Y'])*100/len(df[df['Fatal'] == 'N']))\n",
    "Leth\n",
    "#La letalidad de los ataques mostrados es de 18.22"
   ]
  },
  {
   "cell_type": "markdown",
   "metadata": {},
   "source": [
    "### Si comparamos los ataques letales frente a los no letales vemos un 18% de posibilidades de morir bajo las fauces de un tiburon, cifras comedidas."
   ]
  },
  {
   "cell_type": "code",
   "execution_count": 17,
   "metadata": {},
   "outputs": [],
   "source": [
    "SuPr=df.loc[(df['Fatal']=='N') & (df['Type']=='Provoked' ),['Fatal','Type']]\n",
    "LePr=df.loc[(df['Fatal']=='Y') & (df['Type']=='Provoked' ),['Fatal','Type']]\n",
    "SuPr.size, LePr.size, df['Type'].size\n",
    "tnp=(df['Type'].size)- (SuPr.size+LePr.size)\n",
    "#print (f'El total de casos provocados es de {SuPr.size+LePr.size} y el de casos no provocados: {tnp}, de los cuales solo {LePr.size} han sido provocados y mortales.')\n",
    "#ataques provocados y letalidad "
   ]
  },
  {
   "cell_type": "code",
   "execution_count": 18,
   "metadata": {},
   "outputs": [],
   "source": [
    "Surfinga=df.loc[(df['Fatal']=='N') & (df['Type']=='Provoked' ) &(df['Sex']=='M'),['Fatal','Type','Sex']].shape\n",
    "b=df.loc[(df['Fatal']=='N') & (df['Type']=='Provoked' ) &(df['Sex']=='F'),['Fatal','Type','Sex']].shape\n",
    "c=df.loc[(df['Fatal']=='N') & (df['Type']=='Unprovoked' ) &(df['Sex']=='M'),['Fatal','Type','Sex']].shape\n",
    "d=df.loc[(df['Fatal']=='N') & (df['Type']=='Unprovoked' ) &(df['Sex']=='F'),['Fatal','Type','Sex']].shape\n",
    "#print(f\"El numero de ataques provocados por hombres sin victimas letales es de: {a[0]} y el de mujeres es de {b[0]}\\nEl numero de ataques sin provocar y sin resultado mortal a hombres es de {c[0]} y el de mujeres {d[0]}\")"
   ]
  },
  {
   "cell_type": "markdown",
   "metadata": {},
   "source": [
    "### Observamos que la mayoria de ataques no fueron provocados por lo que si uno sigue el sentido comun y no molesta a los escualos si estos aparecen a tu alrededor obtendra mayores oportunidades para sobrevivir. No obstante, tan solo 4 muestras murieron al provocar al tiburon por lo que si decides hacerlo ten cuidado. \n",
    "### Para acabar observamos que la mayoria de ataques son sin provocar y sin resultado mortal (1153M y 185F)"
   ]
  },
  {
   "cell_type": "markdown",
   "metadata": {},
   "source": [
    "### Con los numeros vistos, la escasa cifra de victimas mortales, el tiempo utilizado en la muestra siendo superior a un siglo, podemos asegurar que es mas factible morir por el baby shark que ante el verdadero ataque de un tiburon."
   ]
  },
  {
   "cell_type": "markdown",
   "metadata": {},
   "source": [
    "https://www.youtube.com/watch?v=5w8QEWA8wGM"
   ]
  },
  {
   "cell_type": "code",
   "execution_count": null,
   "metadata": {},
   "outputs": [],
   "source": []
  }
 ],
 "metadata": {
  "kernelspec": {
   "display_name": "Python 3",
   "language": "python",
   "name": "python3"
  },
  "language_info": {
   "codemirror_mode": {
    "name": "ipython",
    "version": 3
   },
   "file_extension": ".py",
   "mimetype": "text/x-python",
   "name": "python",
   "nbconvert_exporter": "python",
   "pygments_lexer": "ipython3",
   "version": "3.7.6"
  }
 },
 "nbformat": 4,
 "nbformat_minor": 4
}
