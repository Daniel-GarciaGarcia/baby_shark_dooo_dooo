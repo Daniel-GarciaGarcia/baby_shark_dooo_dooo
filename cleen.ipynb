{
 "cells": [
  {
   "cell_type": "code",
   "execution_count": 31,
   "metadata": {},
   "outputs": [],
   "source": [
    "import pandas as pd\n",
    "from collections import Counter\n",
    "import matplotlib.pyplot as plt\n",
    "import numpy as np\n",
    "import statistics \n",
    "\n",
    "df= pd.read_csv(\"/home/danielgarcia/baby_shark_dooo_dooo/input/attacks.csv\", encoding='latin-1')"
   ]
  },
  {
   "cell_type": "code",
   "execution_count": 35,
   "metadata": {},
   "outputs": [],
   "source": [
    "df=df.rename(columns={'Species ': 'Species','Sex ': 'Sex','Fatal (Y/N)': 'Fatal'},)"
   ]
  },
  {
   "cell_type": "code",
   "execution_count": 128,
   "metadata": {},
   "outputs": [],
   "source": [
    "df=df.reindex(['Species','Type','Activity','Injury','Fatal','Country','Area','Location','Sex','Age','Year'], axis='columns')\n",
    "df=df.dropna()\n",
    "df = df.round(decimals=0).astype(object)"
   ]
  },
  {
   "cell_type": "code",
   "execution_count": 37,
   "metadata": {},
   "outputs": [],
   "source": [
    "df['Age']=df['Age'].str.extract('(\\d+)', expand=False)"
   ]
  },
  {
   "cell_type": "code",
   "execution_count": 38,
   "metadata": {},
   "outputs": [],
   "source": [
    "df['Year']=df['Year'].dropna()\n",
    "df['Age'] = pd.to_numeric(df['Age'])\n",
    "df['Year'] = pd.to_numeric(df['Year'])\n",
    "df['Age'].unique\n",
    "df.loc[df['Year'] ==0, 'Year'] = 2018 - df['Age']"
   ]
  },
  {
   "cell_type": "markdown",
   "metadata": {},
   "source": [
    "# ¿Cuan peligrosos son los ataques de tiburones hacia los seres humanos?"
   ]
  },
  {
   "cell_type": "code",
   "execution_count": 40,
   "metadata": {
    "scrolled": true
   },
   "outputs": [
    {
     "name": "stdout",
     "output_type": "stream",
     "text": [
      "El primer año con ataque registrado es 1868 y el ultimo es 2018.\n"
     ]
    }
   ],
   "source": [
    "a=df['Year'].min() ,df['Year'].max()\n",
    "df.drop(df.loc[df['Type']=='Invalid'].index, inplace=True)\n",
    "print (f\"El primer año con ataque registrado es {int(a[0])} y el ultimo es {int(a[1])}.\")"
   ]
  },
  {
   "cell_type": "markdown",
   "metadata": {},
   "source": [
    "### El DataSet  nos muestra informacion recopilada entre 1868 y 2018, esto son 150 años de informacion recopilada a largo de todo el globo terraqueo."
   ]
  },
  {
   "cell_type": "code",
   "execution_count": 157,
   "metadata": {},
   "outputs": [
    {
     "name": "stdout",
     "output_type": "stream",
     "text": [
      "Han transcurrido 150 años entre el primer ataque registrado y el ultimo.\n"
     ]
    }
   ],
   "source": [
    "df['Year'].value_counts()\n",
    "df['Year'].min()\n",
    "Rango_ataques=int(df['Year'].max()-df['Year'].min())\n",
    "Rango_ataques\n",
    "print(f'Han transcurrido {Rango_ataques} años entre el primer ataque registrado y el ultimo.')"
   ]
  },
  {
   "cell_type": "markdown",
   "metadata": {},
   "source": [
    "#### Puesto que queremos ver si realmente los tiburones son tan peligrosos para los humanos analizaremos los datos relacionados con el genero, la edad y si el ataque fue definitivo o se quedo en un susto.                                                                         El primer dato calculado es la edad media de los participantes en el estudio, observamos que son 28 años, la mediana con 25 y la desviacion tipica es de 13.  Los valores extremos son 84 años y 5 años, la edad dividida por cuartiles nos indican grandes varianzas, mientras que el cuartil 0,5 se situa en los 25 años (coincidiendo con la mediana y siendo un poco menor que la media) , el 3 cuantil nos situa en los 36 años vemos un tremendo gap hasta el final con los 84 años. \n",
    "\n"
   ]
  },
  {
   "cell_type": "code",
   "execution_count": 188,
   "metadata": {},
   "outputs": [
    {
     "name": "stdout",
     "output_type": "stream",
     "text": [
      "La edad media de los que han sufrido un ataque es de 28, el valor mas repetido, esto es, la mediana con 25 y la desviacion es 13.\n",
      "La edad maxima de los atacados es de 84 y la minima de 5\n"
     ]
    }
   ],
   "source": [
    "Age_Mean=df[\"Age\"].mean()\n",
    "Age_Median=df[\"Age\"].median()\n",
    "Age_std=df[\"Age\"].std()\n",
    "print(f\"La edad media de los que han sufrido un ataque es de {int(Age_Mean)}, el valor mas repetido, esto es, la mediana con {int(Age_Median)} y la desviacion es {int(Age_std)}.\")\n",
    "print (f\"La edad maxima de los atacados es de {int(df['Age'].max())} y la minima de {int(df['Age'].min())}\")\n",
    "a=df['Age'].quantile([0.25,0.5,0.75,1]).quantile\n"
   ]
  },
  {
   "cell_type": "markdown",
   "metadata": {},
   "source": [
    "### Si empezamos a aplicar filtros veremos informacion mas precisa, yo he decidido utilizar filtros demograficos para ver si hay patrones que se repiten, tambien desglose la informacion en base a si la victima era una victima mortal o no puesto que estaba interesado en ver informacion relacionada "
   ]
  },
  {
   "cell_type": "code",
   "execution_count": 187,
   "metadata": {},
   "outputs": [
    {
     "name": "stdout",
     "output_type": "stream",
     "text": [
      "25\n",
      "13.239341020375448\n",
      "La edad maxima registrada del superviviente masculino es de: 73\n",
      "La de las mujeres supervivientes es de: 70\n",
      "Por otro lado la del fallecido masculino mas adulto de: 84 y la de la mujer fallecida es de: 77\n",
      "La edad minima registrada del superviviente masculino es de: 5\n",
      "La edad minima de las mujeres supervivientes es de: 6\n",
      "Por otro lado la del fallecido masculino mas joven de: 7 y la de la mujer fallecida es de: 7\n",
      "\n",
      "\n",
      "La edad media de supervivientes masculinos es de: 28.312915129151293\n",
      "La de las mujeres supervivientes es de : 27.574257425742573\n",
      "La edad media de los fallecidos masculinos era de: 27.295833333333334\n",
      "La de las mujeres fallecidas de: 30.976190476190474\n"
     ]
    }
   ],
   "source": [
    "a=df.loc[(df['Fatal']=='N') & (df['Sex']=='M' )& (df['Age']),['Fatal','Sex','Age']]\n",
    "b=df.loc[(df['Fatal']=='N') & (df['Sex']=='F' )& (df['Age']),['Fatal','Sex','Age']]\n",
    "c=df.loc[(df['Fatal']=='Y') & (df['Sex']=='M' )& (df['Age']),['Fatal','Sex','Age']]\n",
    "d=df.loc[(df['Fatal']=='Y') & (df['Sex']=='F' )& (df['Age']),['Fatal','Sex','Age']]\n",
    "print (int(a.median()[0]))\n",
    "print(a.std()[0])\n",
    "print (f\"La edad maxima registrada del superviviente masculino es de: {int(a['Age'].max())}\\nLa de las mujeres supervivientes es de: {int(b['Age'].max())}\\nPor otro lado la del fallecido masculino mas adulto de: {int(c['Age'].max())} y la de la mujer fallecida es de: {int(d['Age'].max())}\")\n",
    "\n",
    "\n",
    "print (f\"La edad minima registrada del superviviente masculino es de: {int(a['Age'].min())}\\nLa edad minima de las mujeres supervivientes es de: {int(b['Age'].min())}\\nPor otro lado la del fallecido masculino mas joven de: {int(c['Age'].min())} y la de la mujer fallecida es de: {int(d['Age'].min())}\\n\\n\")\n",
    "\n",
    "\n",
    "\n",
    "print (f'La edad media de supervivientes masculinos es de: {a.mean()[0]}\\nLa de las mujeres supervivientes es de : {b.mean()[0]}\\nLa edad media de los fallecidos masculinos era de: {c.mean()[0]}\\nLa de las mujeres fallecidas de: {d.mean()[0]}')"
   ]
  },
  {
   "cell_type": "code",
   "execution_count": 47,
   "metadata": {},
   "outputs": [
    {
     "name": "stdout",
     "output_type": "stream",
     "text": [
      "(1566, 283)\n",
      "El numero total de supervivientes es de 1566 y de fallecidos es de 283 .\n"
     ]
    }
   ],
   "source": [
    "def len_fa(df):\n",
    "    return len(df[df['Fatal'] == 'N']),len(df[df['Fatal'] == 'Y'])\n",
    "print(len_fa(df))\n",
    "print(f\"El numero total de supervivientes es de {len_fa(df)[0]} y de fallecidos es de {len_fa(df)[1]} .\")"
   ]
  },
  {
   "cell_type": "code",
   "execution_count": 48,
   "metadata": {},
   "outputs": [
    {
     "name": "stdout",
     "output_type": "stream",
     "text": [
      "EL numero de mujeres registradas es de 246 y el de hombres es de 1607.\n"
     ]
    }
   ],
   "source": [
    "def len_gen(df):\n",
    "    return len(df[df['Sex'] == 'F']),len(df[df['Sex'] == 'M'])\n",
    "len_gen(df)\n",
    "print(f\"EL numero de mujeres registradas es de {len_gen(df)[0]} y el de hombres es de {len_gen(df)[1]}.\")"
   ]
  },
  {
   "cell_type": "code",
   "execution_count": 49,
   "metadata": {},
   "outputs": [
    {
     "name": "stdout",
     "output_type": "stream",
     "text": [
      "EL numero de hombres vivos es de 1361.\n"
     ]
    }
   ],
   "source": [
    "pl=df.loc[(df['Fatal']=='N') & (df['Sex']=='M' ),['Fatal','Sex']]\n",
    "(np.sum(pl, axis=1).tolist)\n",
    "len(pl)\n",
    "#EL numero de hombres muertos es de {len(dpm)}\n",
    "print (f\"EL numero de hombres vivos es de {len(pl)}.\")"
   ]
  },
  {
   "cell_type": "code",
   "execution_count": 50,
   "metadata": {},
   "outputs": [
    {
     "name": "stdout",
     "output_type": "stream",
     "text": [
      "EL numero de mujeres vivas es de 204\n"
     ]
    }
   ],
   "source": [
    "lmu=df.loc[(df['Fatal']=='N') & (df['Sex']=='F' ),['Fatal','Sex']]\n",
    "np.sum(lmu, axis=1).tolist\n",
    "len(lmu)\n",
    "print (f\"EL numero de mujeres vivas es de {len(lmu)}\")\n"
   ]
  },
  {
   "cell_type": "code",
   "execution_count": 51,
   "metadata": {},
   "outputs": [
    {
     "name": "stdout",
     "output_type": "stream",
     "text": [
      "EL numero de hombres muertos es de 241\n"
     ]
    }
   ],
   "source": [
    "depm=df.loc[(df['Fatal']=='Y') & (df['Sex']=='M' ),['Fatal','Sex']]\n",
    "(np.sum(depm, axis=1).tolist)\n",
    "len(depm)\n",
    "#EL numero de hombres muertos es de {len(dpm)}\n",
    "print (f\"EL numero de hombres muertos es de {len(depm)}\")"
   ]
  },
  {
   "cell_type": "code",
   "execution_count": 52,
   "metadata": {},
   "outputs": [
    {
     "name": "stdout",
     "output_type": "stream",
     "text": [
      "EL numero de mujeres muertas es de 42\n"
     ]
    }
   ],
   "source": [
    "depmu=df.loc[(df['Fatal']=='Y') & (df['Sex']=='F' ),['Fatal','Sex']]\n",
    "np.sum(depmu, axis=1).tolist\n",
    "len(depmu)\n",
    "print (f\"EL numero de mujeres muertas es de {len(depmu)}\")\n"
   ]
  },
  {
   "cell_type": "code",
   "execution_count": 53,
   "metadata": {},
   "outputs": [
    {
     "data": {
      "text/plain": [
       "18.071519795657725"
      ]
     },
     "execution_count": 53,
     "metadata": {},
     "output_type": "execute_result"
    }
   ],
   "source": [
    "Leth= (len(df[df['Fatal'] == 'Y'])*100/len(df[df['Fatal'] == 'N']))\n",
    "Leth\n",
    "#La letalidad de los ataques mostrados es de 18.22"
   ]
  },
  {
   "cell_type": "code",
   "execution_count": 54,
   "metadata": {},
   "outputs": [
    {
     "name": "stdout",
     "output_type": "stream",
     "text": [
      "El total de casos provocados es de 390 y el de casos no provocados: 1464, de los cuales solo 4 han sido provocados y mortales.\n"
     ]
    }
   ],
   "source": [
    "SuPr=df.loc[(df['Fatal']=='N') & (df['Type']=='Provoked' ),['Fatal','Type']]\n",
    "LePr=df.loc[(df['Fatal']=='Y') & (df['Type']=='Provoked' ),['Fatal','Type']]\n",
    "SuPr.size, LePr.size, df['Type'].size\n",
    "tnp=(df['Type'].size)- (SuPr.size+LePr.size)\n",
    "print (f'El total de casos provocados es de {SuPr.size+LePr.size} y el de casos no provocados: {tnp}, de los cuales solo {LePr.size} han sido provocados y mortales.')\n",
    "#ataques provocados y letalidad "
   ]
  },
  {
   "cell_type": "code",
   "execution_count": 126,
   "metadata": {},
   "outputs": [
    {
     "name": "stdout",
     "output_type": "stream",
     "text": [
      "El numero de ataques provocados por hombres sin victimas letales es de: 1 y el de mujeres es de 12\n",
      "El numero de ataques sin provocar y sin resultado mortal a hombres es de 1153 y el de mujeres 185\n"
     ]
    }
   ],
   "source": [
    "Surfinga=df.loc[(df['Fatal']=='N') & (df['Type']=='Provoked' ) &(df['Sex']=='M'),['Fatal','Type','Sex']].shape\n",
    "b=df.loc[(df['Fatal']=='N') & (df['Type']=='Provoked' ) &(df['Sex']=='F'),['Fatal','Type','Sex']].shape\n",
    "c=df.loc[(df['Fatal']=='N') & (df['Type']=='Unprovoked' ) &(df['Sex']=='M'),['Fatal','Type','Sex']].shape\n",
    "d=df.loc[(df['Fatal']=='N') & (df['Type']=='Unprovoked' ) &(df['Sex']=='F'),['Fatal','Type','Sex']].shape\n",
    "print(f\"El numero de ataques provocados por hombres sin victimas letales es de: {a[0]} y el de mujeres es de {b[0]}\\nEl numero de ataques sin provocar y sin resultado mortal a hombres es de {c[0]} y el de mujeres {d[0]}\")"
   ]
  },
  {
   "cell_type": "code",
   "execution_count": 55,
   "metadata": {},
   "outputs": [
    {
     "data": {
      "text/plain": [
       "Unprovoked      1624\n",
       "Provoked         197\n",
       "Boating           25\n",
       "Sea Disaster       7\n",
       "Boat               1\n",
       "Name: Type, dtype: int64"
      ]
     },
     "execution_count": 55,
     "metadata": {},
     "output_type": "execute_result"
    }
   ],
   "source": [
    "df['Type'].value_counts()"
   ]
  },
  {
   "cell_type": "code",
   "execution_count": 123,
   "metadata": {},
   "outputs": [],
   "source": [
    "\n",
    "cuartiles=np.percentile(df.Year,[25, 50, 75])"
   ]
  },
  {
   "cell_type": "code",
   "execution_count": 59,
   "metadata": {},
   "outputs": [
    {
     "data": {
      "text/plain": [
       "120"
      ]
     },
     "execution_count": 59,
     "metadata": {},
     "output_type": "execute_result"
    }
   ],
   "source": [
    "coty=  df[[\"Country\",\"Type\",'Fatal']].sort_values(by=\"Country\")\n",
    "# Relacionar tipo de bicho con los mas letales y paises mas afectados.\n",
    "a=coty.loc[(coty['Fatal']=='Y') & (coty['Country']=='USA' )& (coty['Type']=='Unprovoked'),['Country','Type','Fatal']]\n",
    "a.size"
   ]
  },
  {
   "cell_type": "code",
   "execution_count": 116,
   "metadata": {},
   "outputs": [
    {
     "ename": "SyntaxError",
     "evalue": "invalid syntax (<ipython-input-116-18ad78b50b0e>, line 1)",
     "output_type": "error",
     "traceback": [
      "\u001b[0;36m  File \u001b[0;32m\"<ipython-input-116-18ad78b50b0e>\"\u001b[0;36m, line \u001b[0;32m1\u001b[0m\n\u001b[0;31m    plot two columns pandas\u001b[0m\n\u001b[0m           ^\u001b[0m\n\u001b[0;31mSyntaxError\u001b[0m\u001b[0;31m:\u001b[0m invalid syntax\n"
     ]
    }
   ],
   "source": [
    "plot two columns pandas"
   ]
  },
  {
   "cell_type": "code",
   "execution_count": 109,
   "metadata": {},
   "outputs": [],
   "source": [
    "#Con los numeros vistos, la escasa cifra de victimas mortales, el tiempo utilizado en la muestra siendo superior a un siglo, podemos asegurar que es mas factible morir por el baby shark que ante el verdadero ataque de un tiburon."
   ]
  }
 ],
 "metadata": {
  "kernelspec": {
   "display_name": "Python 3",
   "language": "python",
   "name": "python3"
  },
  "language_info": {
   "codemirror_mode": {
    "name": "ipython",
    "version": 3
   },
   "file_extension": ".py",
   "mimetype": "text/x-python",
   "name": "python",
   "nbconvert_exporter": "python",
   "pygments_lexer": "ipython3",
   "version": "3.7.6"
  }
 },
 "nbformat": 4,
 "nbformat_minor": 4
}
