{
 "cells": [
  {
   "cell_type": "code",
   "execution_count": 76,
   "metadata": {},
   "outputs": [],
   "source": [
    "import pandas as pd\n",
    "from collections import Counter\n",
    "import matplotlib.pyplot as plt\n",
    "import numpy as np\n",
    "\n",
    "df= pd.read_csv(\"/home/danielgarcia/baby_shark_dooo_dooo/input/attacks.csv\", encoding='latin-1')"
   ]
  },
  {
   "cell_type": "code",
   "execution_count": 77,
   "metadata": {},
   "outputs": [
    {
     "data": {
      "text/plain": [
       "Case Number               8702\n",
       "Date                      6302\n",
       "Year                      6300\n",
       "Type                      6298\n",
       "Country                   6252\n",
       "Area                      5847\n",
       "Location                  5762\n",
       "Activity                  5758\n",
       "Name                      6092\n",
       "Sex                       5737\n",
       "Age                       3471\n",
       "Injury                    6274\n",
       "Fatal (Y/N)               5763\n",
       "Time                      2948\n",
       "Species                   3464\n",
       "Investigator or Source    6285\n",
       "pdf                       6302\n",
       "href formula              6301\n",
       "href                      6302\n",
       "Case Number.1             6302\n",
       "Case Number.2             6302\n",
       "original order            6309\n",
       "Unnamed: 22                  1\n",
       "Unnamed: 23                  2\n",
       "dtype: int64"
      ]
     },
     "execution_count": 77,
     "metadata": {},
     "output_type": "execute_result"
    }
   ],
   "source": [
    "df.count()"
   ]
  },
  {
   "cell_type": "code",
   "execution_count": 78,
   "metadata": {},
   "outputs": [
    {
     "data": {
      "text/html": [
       "<div>\n",
       "<style scoped>\n",
       "    .dataframe tbody tr th:only-of-type {\n",
       "        vertical-align: middle;\n",
       "    }\n",
       "\n",
       "    .dataframe tbody tr th {\n",
       "        vertical-align: top;\n",
       "    }\n",
       "\n",
       "    .dataframe thead th {\n",
       "        text-align: right;\n",
       "    }\n",
       "</style>\n",
       "<table border=\"1\" class=\"dataframe\">\n",
       "  <thead>\n",
       "    <tr style=\"text-align: right;\">\n",
       "      <th></th>\n",
       "      <th>Case Number</th>\n",
       "      <th>Date</th>\n",
       "      <th>Year</th>\n",
       "      <th>Type</th>\n",
       "      <th>Country</th>\n",
       "      <th>Area</th>\n",
       "      <th>Location</th>\n",
       "      <th>Activity</th>\n",
       "      <th>Name</th>\n",
       "      <th>Sex</th>\n",
       "      <th>...</th>\n",
       "      <th>Species</th>\n",
       "      <th>Investigator or Source</th>\n",
       "      <th>pdf</th>\n",
       "      <th>href formula</th>\n",
       "      <th>href</th>\n",
       "      <th>Case Number.1</th>\n",
       "      <th>Case Number.2</th>\n",
       "      <th>original order</th>\n",
       "      <th>Unnamed: 22</th>\n",
       "      <th>Unnamed: 23</th>\n",
       "    </tr>\n",
       "  </thead>\n",
       "  <tbody>\n",
       "    <tr>\n",
       "      <th>0</th>\n",
       "      <td>2018.06.25</td>\n",
       "      <td>25-Jun-2018</td>\n",
       "      <td>2018.0</td>\n",
       "      <td>Boating</td>\n",
       "      <td>USA</td>\n",
       "      <td>California</td>\n",
       "      <td>Oceanside, San Diego County</td>\n",
       "      <td>Paddling</td>\n",
       "      <td>Julie Wolfe</td>\n",
       "      <td>F</td>\n",
       "      <td>...</td>\n",
       "      <td>White shark</td>\n",
       "      <td>R. Collier, GSAF</td>\n",
       "      <td>2018.06.25-Wolfe.pdf</td>\n",
       "      <td>http://sharkattackfile.net/spreadsheets/pdf_di...</td>\n",
       "      <td>http://sharkattackfile.net/spreadsheets/pdf_di...</td>\n",
       "      <td>2018.06.25</td>\n",
       "      <td>2018.06.25</td>\n",
       "      <td>6303.0</td>\n",
       "      <td>NaN</td>\n",
       "      <td>NaN</td>\n",
       "    </tr>\n",
       "    <tr>\n",
       "      <th>1</th>\n",
       "      <td>2018.06.18</td>\n",
       "      <td>18-Jun-2018</td>\n",
       "      <td>2018.0</td>\n",
       "      <td>Unprovoked</td>\n",
       "      <td>USA</td>\n",
       "      <td>Georgia</td>\n",
       "      <td>St. Simon Island, Glynn County</td>\n",
       "      <td>Standing</td>\n",
       "      <td>Adyson McNeely</td>\n",
       "      <td>F</td>\n",
       "      <td>...</td>\n",
       "      <td>NaN</td>\n",
       "      <td>K.McMurray, TrackingSharks.com</td>\n",
       "      <td>2018.06.18-McNeely.pdf</td>\n",
       "      <td>http://sharkattackfile.net/spreadsheets/pdf_di...</td>\n",
       "      <td>http://sharkattackfile.net/spreadsheets/pdf_di...</td>\n",
       "      <td>2018.06.18</td>\n",
       "      <td>2018.06.18</td>\n",
       "      <td>6302.0</td>\n",
       "      <td>NaN</td>\n",
       "      <td>NaN</td>\n",
       "    </tr>\n",
       "    <tr>\n",
       "      <th>2</th>\n",
       "      <td>2018.06.09</td>\n",
       "      <td>09-Jun-2018</td>\n",
       "      <td>2018.0</td>\n",
       "      <td>Invalid</td>\n",
       "      <td>USA</td>\n",
       "      <td>Hawaii</td>\n",
       "      <td>Habush, Oahu</td>\n",
       "      <td>Surfing</td>\n",
       "      <td>John Denges</td>\n",
       "      <td>M</td>\n",
       "      <td>...</td>\n",
       "      <td>NaN</td>\n",
       "      <td>K.McMurray, TrackingSharks.com</td>\n",
       "      <td>2018.06.09-Denges.pdf</td>\n",
       "      <td>http://sharkattackfile.net/spreadsheets/pdf_di...</td>\n",
       "      <td>http://sharkattackfile.net/spreadsheets/pdf_di...</td>\n",
       "      <td>2018.06.09</td>\n",
       "      <td>2018.06.09</td>\n",
       "      <td>6301.0</td>\n",
       "      <td>NaN</td>\n",
       "      <td>NaN</td>\n",
       "    </tr>\n",
       "    <tr>\n",
       "      <th>3</th>\n",
       "      <td>2018.06.08</td>\n",
       "      <td>08-Jun-2018</td>\n",
       "      <td>2018.0</td>\n",
       "      <td>Unprovoked</td>\n",
       "      <td>AUSTRALIA</td>\n",
       "      <td>New South Wales</td>\n",
       "      <td>Arrawarra Headland</td>\n",
       "      <td>Surfing</td>\n",
       "      <td>male</td>\n",
       "      <td>M</td>\n",
       "      <td>...</td>\n",
       "      <td>2 m shark</td>\n",
       "      <td>B. Myatt, GSAF</td>\n",
       "      <td>2018.06.08-Arrawarra.pdf</td>\n",
       "      <td>http://sharkattackfile.net/spreadsheets/pdf_di...</td>\n",
       "      <td>http://sharkattackfile.net/spreadsheets/pdf_di...</td>\n",
       "      <td>2018.06.08</td>\n",
       "      <td>2018.06.08</td>\n",
       "      <td>6300.0</td>\n",
       "      <td>NaN</td>\n",
       "      <td>NaN</td>\n",
       "    </tr>\n",
       "    <tr>\n",
       "      <th>4</th>\n",
       "      <td>2018.06.04</td>\n",
       "      <td>04-Jun-2018</td>\n",
       "      <td>2018.0</td>\n",
       "      <td>Provoked</td>\n",
       "      <td>MEXICO</td>\n",
       "      <td>Colima</td>\n",
       "      <td>La Ticla</td>\n",
       "      <td>Free diving</td>\n",
       "      <td>Gustavo Ramos</td>\n",
       "      <td>M</td>\n",
       "      <td>...</td>\n",
       "      <td>Tiger shark, 3m</td>\n",
       "      <td>A .Kipper</td>\n",
       "      <td>2018.06.04-Ramos.pdf</td>\n",
       "      <td>http://sharkattackfile.net/spreadsheets/pdf_di...</td>\n",
       "      <td>http://sharkattackfile.net/spreadsheets/pdf_di...</td>\n",
       "      <td>2018.06.04</td>\n",
       "      <td>2018.06.04</td>\n",
       "      <td>6299.0</td>\n",
       "      <td>NaN</td>\n",
       "      <td>NaN</td>\n",
       "    </tr>\n",
       "    <tr>\n",
       "      <th>...</th>\n",
       "      <td>...</td>\n",
       "      <td>...</td>\n",
       "      <td>...</td>\n",
       "      <td>...</td>\n",
       "      <td>...</td>\n",
       "      <td>...</td>\n",
       "      <td>...</td>\n",
       "      <td>...</td>\n",
       "      <td>...</td>\n",
       "      <td>...</td>\n",
       "      <td>...</td>\n",
       "      <td>...</td>\n",
       "      <td>...</td>\n",
       "      <td>...</td>\n",
       "      <td>...</td>\n",
       "      <td>...</td>\n",
       "      <td>...</td>\n",
       "      <td>...</td>\n",
       "      <td>...</td>\n",
       "      <td>...</td>\n",
       "      <td>...</td>\n",
       "    </tr>\n",
       "    <tr>\n",
       "      <th>25718</th>\n",
       "      <td>NaN</td>\n",
       "      <td>NaN</td>\n",
       "      <td>NaN</td>\n",
       "      <td>NaN</td>\n",
       "      <td>NaN</td>\n",
       "      <td>NaN</td>\n",
       "      <td>NaN</td>\n",
       "      <td>NaN</td>\n",
       "      <td>NaN</td>\n",
       "      <td>NaN</td>\n",
       "      <td>...</td>\n",
       "      <td>NaN</td>\n",
       "      <td>NaN</td>\n",
       "      <td>NaN</td>\n",
       "      <td>NaN</td>\n",
       "      <td>NaN</td>\n",
       "      <td>NaN</td>\n",
       "      <td>NaN</td>\n",
       "      <td>NaN</td>\n",
       "      <td>NaN</td>\n",
       "      <td>NaN</td>\n",
       "    </tr>\n",
       "    <tr>\n",
       "      <th>25719</th>\n",
       "      <td>NaN</td>\n",
       "      <td>NaN</td>\n",
       "      <td>NaN</td>\n",
       "      <td>NaN</td>\n",
       "      <td>NaN</td>\n",
       "      <td>NaN</td>\n",
       "      <td>NaN</td>\n",
       "      <td>NaN</td>\n",
       "      <td>NaN</td>\n",
       "      <td>NaN</td>\n",
       "      <td>...</td>\n",
       "      <td>NaN</td>\n",
       "      <td>NaN</td>\n",
       "      <td>NaN</td>\n",
       "      <td>NaN</td>\n",
       "      <td>NaN</td>\n",
       "      <td>NaN</td>\n",
       "      <td>NaN</td>\n",
       "      <td>NaN</td>\n",
       "      <td>NaN</td>\n",
       "      <td>NaN</td>\n",
       "    </tr>\n",
       "    <tr>\n",
       "      <th>25720</th>\n",
       "      <td>NaN</td>\n",
       "      <td>NaN</td>\n",
       "      <td>NaN</td>\n",
       "      <td>NaN</td>\n",
       "      <td>NaN</td>\n",
       "      <td>NaN</td>\n",
       "      <td>NaN</td>\n",
       "      <td>NaN</td>\n",
       "      <td>NaN</td>\n",
       "      <td>NaN</td>\n",
       "      <td>...</td>\n",
       "      <td>NaN</td>\n",
       "      <td>NaN</td>\n",
       "      <td>NaN</td>\n",
       "      <td>NaN</td>\n",
       "      <td>NaN</td>\n",
       "      <td>NaN</td>\n",
       "      <td>NaN</td>\n",
       "      <td>NaN</td>\n",
       "      <td>NaN</td>\n",
       "      <td>NaN</td>\n",
       "    </tr>\n",
       "    <tr>\n",
       "      <th>25721</th>\n",
       "      <td>NaN</td>\n",
       "      <td>NaN</td>\n",
       "      <td>NaN</td>\n",
       "      <td>NaN</td>\n",
       "      <td>NaN</td>\n",
       "      <td>NaN</td>\n",
       "      <td>NaN</td>\n",
       "      <td>NaN</td>\n",
       "      <td>NaN</td>\n",
       "      <td>NaN</td>\n",
       "      <td>...</td>\n",
       "      <td>NaN</td>\n",
       "      <td>NaN</td>\n",
       "      <td>NaN</td>\n",
       "      <td>NaN</td>\n",
       "      <td>NaN</td>\n",
       "      <td>NaN</td>\n",
       "      <td>NaN</td>\n",
       "      <td>NaN</td>\n",
       "      <td>NaN</td>\n",
       "      <td>NaN</td>\n",
       "    </tr>\n",
       "    <tr>\n",
       "      <th>25722</th>\n",
       "      <td>xx</td>\n",
       "      <td>NaN</td>\n",
       "      <td>NaN</td>\n",
       "      <td>NaN</td>\n",
       "      <td>NaN</td>\n",
       "      <td>NaN</td>\n",
       "      <td>NaN</td>\n",
       "      <td>NaN</td>\n",
       "      <td>NaN</td>\n",
       "      <td>NaN</td>\n",
       "      <td>...</td>\n",
       "      <td>NaN</td>\n",
       "      <td>NaN</td>\n",
       "      <td>NaN</td>\n",
       "      <td>NaN</td>\n",
       "      <td>NaN</td>\n",
       "      <td>NaN</td>\n",
       "      <td>NaN</td>\n",
       "      <td>NaN</td>\n",
       "      <td>NaN</td>\n",
       "      <td>NaN</td>\n",
       "    </tr>\n",
       "  </tbody>\n",
       "</table>\n",
       "<p>25723 rows × 24 columns</p>\n",
       "</div>"
      ],
      "text/plain": [
       "      Case Number         Date    Year        Type    Country  \\\n",
       "0      2018.06.25  25-Jun-2018  2018.0     Boating        USA   \n",
       "1      2018.06.18  18-Jun-2018  2018.0  Unprovoked        USA   \n",
       "2      2018.06.09  09-Jun-2018  2018.0     Invalid        USA   \n",
       "3      2018.06.08  08-Jun-2018  2018.0  Unprovoked  AUSTRALIA   \n",
       "4      2018.06.04  04-Jun-2018  2018.0    Provoked     MEXICO   \n",
       "...           ...          ...     ...         ...        ...   \n",
       "25718         NaN          NaN     NaN         NaN        NaN   \n",
       "25719         NaN          NaN     NaN         NaN        NaN   \n",
       "25720         NaN          NaN     NaN         NaN        NaN   \n",
       "25721         NaN          NaN     NaN         NaN        NaN   \n",
       "25722          xx          NaN     NaN         NaN        NaN   \n",
       "\n",
       "                  Area                        Location     Activity  \\\n",
       "0           California     Oceanside, San Diego County     Paddling   \n",
       "1              Georgia  St. Simon Island, Glynn County     Standing   \n",
       "2               Hawaii                    Habush, Oahu      Surfing   \n",
       "3      New South Wales              Arrawarra Headland      Surfing   \n",
       "4               Colima                        La Ticla  Free diving   \n",
       "...                ...                             ...          ...   \n",
       "25718              NaN                             NaN          NaN   \n",
       "25719              NaN                             NaN          NaN   \n",
       "25720              NaN                             NaN          NaN   \n",
       "25721              NaN                             NaN          NaN   \n",
       "25722              NaN                             NaN          NaN   \n",
       "\n",
       "                  Name Sex   ...         Species   \\\n",
       "0          Julie Wolfe    F  ...      White shark   \n",
       "1      Adyson McNeely     F  ...              NaN   \n",
       "2          John Denges    M  ...              NaN   \n",
       "3                 male    M  ...        2 m shark   \n",
       "4       Gustavo Ramos     M  ...  Tiger shark, 3m   \n",
       "...                ...  ...  ...              ...   \n",
       "25718              NaN  NaN  ...              NaN   \n",
       "25719              NaN  NaN  ...              NaN   \n",
       "25720              NaN  NaN  ...              NaN   \n",
       "25721              NaN  NaN  ...              NaN   \n",
       "25722              NaN  NaN  ...              NaN   \n",
       "\n",
       "               Investigator or Source                       pdf  \\\n",
       "0                    R. Collier, GSAF      2018.06.25-Wolfe.pdf   \n",
       "1      K.McMurray, TrackingSharks.com    2018.06.18-McNeely.pdf   \n",
       "2      K.McMurray, TrackingSharks.com     2018.06.09-Denges.pdf   \n",
       "3                      B. Myatt, GSAF  2018.06.08-Arrawarra.pdf   \n",
       "4                           A .Kipper      2018.06.04-Ramos.pdf   \n",
       "...                               ...                       ...   \n",
       "25718                             NaN                       NaN   \n",
       "25719                             NaN                       NaN   \n",
       "25720                             NaN                       NaN   \n",
       "25721                             NaN                       NaN   \n",
       "25722                             NaN                       NaN   \n",
       "\n",
       "                                            href formula  \\\n",
       "0      http://sharkattackfile.net/spreadsheets/pdf_di...   \n",
       "1      http://sharkattackfile.net/spreadsheets/pdf_di...   \n",
       "2      http://sharkattackfile.net/spreadsheets/pdf_di...   \n",
       "3      http://sharkattackfile.net/spreadsheets/pdf_di...   \n",
       "4      http://sharkattackfile.net/spreadsheets/pdf_di...   \n",
       "...                                                  ...   \n",
       "25718                                                NaN   \n",
       "25719                                                NaN   \n",
       "25720                                                NaN   \n",
       "25721                                                NaN   \n",
       "25722                                                NaN   \n",
       "\n",
       "                                                    href Case Number.1  \\\n",
       "0      http://sharkattackfile.net/spreadsheets/pdf_di...    2018.06.25   \n",
       "1      http://sharkattackfile.net/spreadsheets/pdf_di...    2018.06.18   \n",
       "2      http://sharkattackfile.net/spreadsheets/pdf_di...    2018.06.09   \n",
       "3      http://sharkattackfile.net/spreadsheets/pdf_di...    2018.06.08   \n",
       "4      http://sharkattackfile.net/spreadsheets/pdf_di...    2018.06.04   \n",
       "...                                                  ...           ...   \n",
       "25718                                                NaN           NaN   \n",
       "25719                                                NaN           NaN   \n",
       "25720                                                NaN           NaN   \n",
       "25721                                                NaN           NaN   \n",
       "25722                                                NaN           NaN   \n",
       "\n",
       "      Case Number.2 original order Unnamed: 22 Unnamed: 23  \n",
       "0        2018.06.25         6303.0         NaN         NaN  \n",
       "1        2018.06.18         6302.0         NaN         NaN  \n",
       "2        2018.06.09         6301.0         NaN         NaN  \n",
       "3        2018.06.08         6300.0         NaN         NaN  \n",
       "4        2018.06.04         6299.0         NaN         NaN  \n",
       "...             ...            ...         ...         ...  \n",
       "25718           NaN            NaN         NaN         NaN  \n",
       "25719           NaN            NaN         NaN         NaN  \n",
       "25720           NaN            NaN         NaN         NaN  \n",
       "25721           NaN            NaN         NaN         NaN  \n",
       "25722           NaN            NaN         NaN         NaN  \n",
       "\n",
       "[25723 rows x 24 columns]"
      ]
     },
     "execution_count": 78,
     "metadata": {},
     "output_type": "execute_result"
    }
   ],
   "source": [
    "df"
   ]
  },
  {
   "cell_type": "code",
   "execution_count": 79,
   "metadata": {},
   "outputs": [
    {
     "data": {
      "text/plain": [
       "Index(['Case Number', 'Date', 'Year', 'Type', 'Country', 'Area', 'Location',\n",
       "       'Activity', 'Name', 'Sex ', 'Age', 'Injury', 'Fatal (Y/N)', 'Time',\n",
       "       'Species ', 'Investigator or Source', 'pdf', 'href formula', 'href',\n",
       "       'Case Number.1', 'Case Number.2', 'original order', 'Unnamed: 22',\n",
       "       'Unnamed: 23'],\n",
       "      dtype='object')"
      ]
     },
     "execution_count": 79,
     "metadata": {},
     "output_type": "execute_result"
    }
   ],
   "source": [
    "df.columns"
   ]
  },
  {
   "cell_type": "code",
   "execution_count": 80,
   "metadata": {},
   "outputs": [],
   "source": [
    "df=df.rename(columns={'Species ': 'Species','Sex ': 'Sex','Fatal (Y/N)': 'Fatal'},)"
   ]
  },
  {
   "cell_type": "code",
   "execution_count": 81,
   "metadata": {},
   "outputs": [
    {
     "data": {
      "text/html": [
       "<div>\n",
       "<style scoped>\n",
       "    .dataframe tbody tr th:only-of-type {\n",
       "        vertical-align: middle;\n",
       "    }\n",
       "\n",
       "    .dataframe tbody tr th {\n",
       "        vertical-align: top;\n",
       "    }\n",
       "\n",
       "    .dataframe thead th {\n",
       "        text-align: right;\n",
       "    }\n",
       "</style>\n",
       "<table border=\"1\" class=\"dataframe\">\n",
       "  <thead>\n",
       "    <tr style=\"text-align: right;\">\n",
       "      <th></th>\n",
       "      <th>Species</th>\n",
       "      <th>Type</th>\n",
       "      <th>Activity</th>\n",
       "      <th>Injury</th>\n",
       "      <th>Fatal</th>\n",
       "      <th>Country</th>\n",
       "      <th>Area</th>\n",
       "      <th>Location</th>\n",
       "      <th>Sex</th>\n",
       "      <th>Age</th>\n",
       "      <th>Year</th>\n",
       "    </tr>\n",
       "  </thead>\n",
       "  <tbody>\n",
       "    <tr>\n",
       "      <th>0</th>\n",
       "      <td>White shark</td>\n",
       "      <td>Boating</td>\n",
       "      <td>Paddling</td>\n",
       "      <td>No injury to occupant, outrigger canoe and pad...</td>\n",
       "      <td>N</td>\n",
       "      <td>USA</td>\n",
       "      <td>California</td>\n",
       "      <td>Oceanside, San Diego County</td>\n",
       "      <td>F</td>\n",
       "      <td>57</td>\n",
       "      <td>2018</td>\n",
       "    </tr>\n",
       "    <tr>\n",
       "      <th>6</th>\n",
       "      <td>Tiger shark</td>\n",
       "      <td>Unprovoked</td>\n",
       "      <td>Swimming</td>\n",
       "      <td>FATAL</td>\n",
       "      <td>Y</td>\n",
       "      <td>BRAZIL</td>\n",
       "      <td>Pernambuco</td>\n",
       "      <td>Piedade Beach, Recife</td>\n",
       "      <td>M</td>\n",
       "      <td>18</td>\n",
       "      <td>2018</td>\n",
       "    </tr>\n",
       "    <tr>\n",
       "      <th>7</th>\n",
       "      <td>Lemon shark, 3'</td>\n",
       "      <td>Unprovoked</td>\n",
       "      <td>Fishing</td>\n",
       "      <td>Minor injury to foot. PROVOKED INCIDENT</td>\n",
       "      <td>N</td>\n",
       "      <td>USA</td>\n",
       "      <td>Florida</td>\n",
       "      <td>Lighhouse Point Park, Ponce Inlet, Volusia County</td>\n",
       "      <td>M</td>\n",
       "      <td>52</td>\n",
       "      <td>2018</td>\n",
       "    </tr>\n",
       "    <tr>\n",
       "      <th>8</th>\n",
       "      <td>Bull shark, 6'</td>\n",
       "      <td>Unprovoked</td>\n",
       "      <td>Walking</td>\n",
       "      <td>Lower left leg bitten</td>\n",
       "      <td>N</td>\n",
       "      <td>USA</td>\n",
       "      <td>Florida</td>\n",
       "      <td>Cocoa Beach, Brevard  County</td>\n",
       "      <td>M</td>\n",
       "      <td>15</td>\n",
       "      <td>2018</td>\n",
       "    </tr>\n",
       "    <tr>\n",
       "      <th>10</th>\n",
       "      <td>Grey reef shark</td>\n",
       "      <td>Provoked</td>\n",
       "      <td>Feeding sharks</td>\n",
       "      <td>Minor bite to hand by captive shark. PROVOKED ...</td>\n",
       "      <td>N</td>\n",
       "      <td>AUSTRALIA</td>\n",
       "      <td>Queensland</td>\n",
       "      <td>Cairns Aquarium</td>\n",
       "      <td>M</td>\n",
       "      <td>32</td>\n",
       "      <td>2018</td>\n",
       "    </tr>\n",
       "    <tr>\n",
       "      <th>...</th>\n",
       "      <td>...</td>\n",
       "      <td>...</td>\n",
       "      <td>...</td>\n",
       "      <td>...</td>\n",
       "      <td>...</td>\n",
       "      <td>...</td>\n",
       "      <td>...</td>\n",
       "      <td>...</td>\n",
       "      <td>...</td>\n",
       "      <td>...</td>\n",
       "      <td>...</td>\n",
       "    </tr>\n",
       "    <tr>\n",
       "      <th>490</th>\n",
       "      <td>Blacktip shark</td>\n",
       "      <td>Unprovoked</td>\n",
       "      <td>Surfing</td>\n",
       "      <td>Foot bitten</td>\n",
       "      <td>N</td>\n",
       "      <td>USA</td>\n",
       "      <td>Florida</td>\n",
       "      <td>New Smyrna Beach, Volusia County</td>\n",
       "      <td>M</td>\n",
       "      <td>29</td>\n",
       "      <td>2014</td>\n",
       "    </tr>\n",
       "    <tr>\n",
       "      <th>492</th>\n",
       "      <td>Blacktip shark</td>\n",
       "      <td>Unprovoked</td>\n",
       "      <td>Surfing</td>\n",
       "      <td>Foot bitten</td>\n",
       "      <td>N</td>\n",
       "      <td>USA</td>\n",
       "      <td>Florida</td>\n",
       "      <td>New Smyrna Beach, Volusia County</td>\n",
       "      <td>M</td>\n",
       "      <td>15</td>\n",
       "      <td>2014</td>\n",
       "    </tr>\n",
       "    <tr>\n",
       "      <th>495</th>\n",
       "      <td>8' to 10' shark</td>\n",
       "      <td>Unprovoked</td>\n",
       "      <td>Surfing</td>\n",
       "      <td>Lacerations to knee</td>\n",
       "      <td>N</td>\n",
       "      <td>USA</td>\n",
       "      <td>California</td>\n",
       "      <td>Walls Beach, Vandenberg AFB, Santa Barbara County</td>\n",
       "      <td>M</td>\n",
       "      <td>28</td>\n",
       "      <td>2014</td>\n",
       "    </tr>\n",
       "    <tr>\n",
       "      <th>496</th>\n",
       "      <td>2 white shark: 13' &amp; 9\"8\"</td>\n",
       "      <td>Unprovoked</td>\n",
       "      <td>Surfing</td>\n",
       "      <td>Left arm &amp; right hand severed, lacerations to ...</td>\n",
       "      <td>N</td>\n",
       "      <td>AUSTRALIA</td>\n",
       "      <td>Western Australia</td>\n",
       "      <td>Kelpids Beach, Wylie Bay, Esperance</td>\n",
       "      <td>M</td>\n",
       "      <td>23</td>\n",
       "      <td>2014</td>\n",
       "    </tr>\n",
       "    <tr>\n",
       "      <th>498</th>\n",
       "      <td>Blacktip shark</td>\n",
       "      <td>Unprovoked</td>\n",
       "      <td>Feeding fish</td>\n",
       "      <td>Thumb &amp; finger nipped</td>\n",
       "      <td>N</td>\n",
       "      <td>FRENCH POLYNESIA</td>\n",
       "      <td>Moorea</td>\n",
       "      <td>Tiahura Lagoon</td>\n",
       "      <td>F</td>\n",
       "      <td>36</td>\n",
       "      <td>2014</td>\n",
       "    </tr>\n",
       "  </tbody>\n",
       "</table>\n",
       "<p>200 rows × 11 columns</p>\n",
       "</div>"
      ],
      "text/plain": [
       "                       Species        Type        Activity  \\\n",
       "0                  White shark     Boating        Paddling   \n",
       "6                  Tiger shark  Unprovoked        Swimming   \n",
       "7              Lemon shark, 3'  Unprovoked         Fishing   \n",
       "8               Bull shark, 6'  Unprovoked         Walking   \n",
       "10             Grey reef shark    Provoked  Feeding sharks   \n",
       "..                         ...         ...             ...   \n",
       "490             Blacktip shark  Unprovoked         Surfing   \n",
       "492             Blacktip shark  Unprovoked         Surfing   \n",
       "495            8' to 10' shark  Unprovoked         Surfing   \n",
       "496  2 white shark: 13' & 9\"8\"  Unprovoked         Surfing   \n",
       "498             Blacktip shark  Unprovoked    Feeding fish   \n",
       "\n",
       "                                                Injury Fatal  \\\n",
       "0    No injury to occupant, outrigger canoe and pad...     N   \n",
       "6                                                FATAL     Y   \n",
       "7              Minor injury to foot. PROVOKED INCIDENT     N   \n",
       "8                                Lower left leg bitten     N   \n",
       "10   Minor bite to hand by captive shark. PROVOKED ...     N   \n",
       "..                                                 ...   ...   \n",
       "490                                        Foot bitten     N   \n",
       "492                                        Foot bitten     N   \n",
       "495                                Lacerations to knee     N   \n",
       "496  Left arm & right hand severed, lacerations to ...     N   \n",
       "498                              Thumb & finger nipped     N   \n",
       "\n",
       "              Country               Area  \\\n",
       "0                 USA         California   \n",
       "6              BRAZIL         Pernambuco   \n",
       "7                 USA            Florida   \n",
       "8                 USA            Florida   \n",
       "10          AUSTRALIA         Queensland   \n",
       "..                ...                ...   \n",
       "490               USA            Florida   \n",
       "492               USA            Florida   \n",
       "495               USA         California   \n",
       "496         AUSTRALIA  Western Australia   \n",
       "498  FRENCH POLYNESIA             Moorea   \n",
       "\n",
       "                                              Location Sex Age  Year  \n",
       "0                          Oceanside, San Diego County   F  57  2018  \n",
       "6                                Piedade Beach, Recife   M  18  2018  \n",
       "7    Lighhouse Point Park, Ponce Inlet, Volusia County   M  52  2018  \n",
       "8                         Cocoa Beach, Brevard  County   M  15  2018  \n",
       "10                                     Cairns Aquarium   M  32  2018  \n",
       "..                                                 ...  ..  ..   ...  \n",
       "490                   New Smyrna Beach, Volusia County   M  29  2014  \n",
       "492                   New Smyrna Beach, Volusia County   M  15  2014  \n",
       "495  Walls Beach, Vandenberg AFB, Santa Barbara County   M  28  2014  \n",
       "496                Kelpids Beach, Wylie Bay, Esperance   M  23  2014  \n",
       "498                                     Tiahura Lagoon   F  36  2014  \n",
       "\n",
       "[200 rows x 11 columns]"
      ]
     },
     "execution_count": 81,
     "metadata": {},
     "output_type": "execute_result"
    }
   ],
   "source": [
    "df=df.reindex(['Species','Type','Activity','Injury','Fatal','Country','Area','Location','Sex','Age','Year'], axis='columns')\n",
    "df=df.dropna()\n",
    "df = df.round(decimals=0).astype(object)\n",
    "\n",
    "\n",
    "\n",
    "df.head(200)"
   ]
  },
  {
   "cell_type": "code",
   "execution_count": 82,
   "metadata": {},
   "outputs": [
    {
     "data": {
      "text/plain": [
       "Unprovoked      1624\n",
       "Provoked         197\n",
       "Boating           25\n",
       "Invalid           11\n",
       "Sea Disaster       7\n",
       "Boat               1\n",
       "Name: Type, dtype: int64"
      ]
     },
     "execution_count": 82,
     "metadata": {},
     "output_type": "execute_result"
    }
   ],
   "source": [
    "df['Type'].value_counts()\n"
   ]
  },
  {
   "cell_type": "code",
   "execution_count": 83,
   "metadata": {},
   "outputs": [],
   "source": [
    "df['Age']=df['Age'].str.extract('(\\d+)', expand=False)"
   ]
  },
  {
   "cell_type": "code",
   "execution_count": 84,
   "metadata": {},
   "outputs": [
    {
     "data": {
      "text/plain": [
       "<bound method Series.unique of 0       57.0\n",
       "6       18.0\n",
       "7       52.0\n",
       "8       15.0\n",
       "10      32.0\n",
       "        ... \n",
       "6226    19.0\n",
       "6239    36.0\n",
       "6242     6.0\n",
       "6243    16.0\n",
       "6265    13.0\n",
       "Name: Age, Length: 1865, dtype: float64>"
      ]
     },
     "execution_count": 84,
     "metadata": {},
     "output_type": "execute_result"
    }
   ],
   "source": [
    "df['Year']=df['Year'].dropna()\n",
    "df['Age'] = pd.to_numeric(df['Age'])\n",
    "df['Year'] = pd.to_numeric(df['Year'])\n",
    "df['Age'].unique"
   ]
  },
  {
   "cell_type": "code",
   "execution_count": 204,
   "metadata": {},
   "outputs": [],
   "source": [
    "df.loc[df['Year'] ==0, 'Year'] = 2018 - df['Age']"
   ]
  },
  {
   "cell_type": "code",
   "execution_count": 191,
   "metadata": {
    "scrolled": true
   },
   "outputs": [
    {
     "data": {
      "text/plain": [
       "2015.0    77\n",
       "2012.0    61\n",
       "2002.0    58\n",
       "2007.0    58\n",
       "2013.0    52\n",
       "          ..\n",
       "1906.0     1\n",
       "1899.0     1\n",
       "1880.0     1\n",
       "1894.0     1\n",
       "1919.0     1\n",
       "Name: Year, Length: 110, dtype: int64"
      ]
     },
     "execution_count": 191,
     "metadata": {},
     "output_type": "execute_result"
    }
   ],
   "source": [
    "df['Year'].value_counts()\n"
   ]
  },
  {
   "cell_type": "code",
   "execution_count": 203,
   "metadata": {
    "scrolled": true
   },
   "outputs": [
    {
     "name": "stdout",
     "output_type": "stream",
     "text": [
      "El primer año con ataque registrado es 1868 y el ultimo es 2018.\n"
     ]
    }
   ],
   "source": [
    "a=df['Year'].min() ,df['Year'].max()\n",
    "print (f\"El primer año con ataque registrado es {int(a[0])} y el ultimo es {int(a[1])}.\")"
   ]
  },
  {
   "cell_type": "code",
   "execution_count": 87,
   "metadata": {},
   "outputs": [
    {
     "data": {
      "text/plain": [
       "'df[\\'Age\\'] = df[\\'Age\\'].str.replace(\"13 OR\",\"\")\\ndf[\\'Age\\'] = df[\\'Age\\'].str.replace(\"18 OR 20\",\"20\")\\ndf[\\'Age\\']=df[\\'Age\\'].str.rstrip(\\'S\\')\\ndf[\\'Age\\']=df[\\'Age\\'].str.upper()\\ndf[\\'Age\\'] = df[\\'Age\\'].str.replace(\"18 months\",\"1\")\\ndf[\\'Age\\'] = df[\\'Age\\'].str.replace(\"TEEN\",\"14\")\\ndf[\\'Age\\'] = df[\\'Age\\'].str.replace(\"28 &\",\"\")\\ndf[\\'Age\\'] = df[\\'Age\\'].str.replace(\" \",\"18\")'"
      ]
     },
     "execution_count": 87,
     "metadata": {},
     "output_type": "execute_result"
    }
   ],
   "source": [
    "'''df['Age'] = df['Age'].str.replace(\"13 OR\",\"\")\n",
    "df['Age'] = df['Age'].str.replace(\"18 OR 20\",\"20\")\n",
    "df['Age']=df['Age'].str.rstrip('S')\n",
    "df['Age']=df['Age'].str.upper()\n",
    "df['Age'] = df['Age'].str.replace(\"18 months\",\"1\")\n",
    "df['Age'] = df['Age'].str.replace(\"TEEN\",\"14\")\n",
    "df['Age'] = df['Age'].str.replace(\"28 &\",\"\")\n",
    "df['Age'] = df['Age'].str.replace(\" \",\"18\")'''\n"
   ]
  },
  {
   "cell_type": "code",
   "execution_count": 88,
   "metadata": {},
   "outputs": [
    {
     "data": {
      "text/plain": [
       "['Unprovoked', 'Provoked', 'Boating', 'Invalid', 'Sea Disaster', 'Boat']"
      ]
     },
     "execution_count": 88,
     "metadata": {},
     "output_type": "execute_result"
    }
   ],
   "source": [
    "topty = 10\n",
    "df['Type'].value_counts()[:topty].index.tolist()\n",
    "#Eliminar invalid"
   ]
  },
  {
   "cell_type": "code",
   "execution_count": 89,
   "metadata": {},
   "outputs": [
    {
     "data": {
      "text/plain": [
       "['USA',\n",
       " 'AUSTRALIA',\n",
       " 'SOUTH AFRICA',\n",
       " 'BAHAMAS',\n",
       " 'NEW ZEALAND',\n",
       " 'BRAZIL',\n",
       " 'PAPUA NEW GUINEA',\n",
       " 'REUNION',\n",
       " 'MEXICO',\n",
       " 'ITALY']"
      ]
     },
     "execution_count": 89,
     "metadata": {},
     "output_type": "execute_result"
    }
   ],
   "source": [
    "topac = 10\n",
    "df['Country'].value_counts()[:topac].index.tolist()"
   ]
  },
  {
   "cell_type": "code",
   "execution_count": 90,
   "metadata": {},
   "outputs": [
    {
     "data": {
      "text/html": [
       "<div>\n",
       "<style scoped>\n",
       "    .dataframe tbody tr th:only-of-type {\n",
       "        vertical-align: middle;\n",
       "    }\n",
       "\n",
       "    .dataframe tbody tr th {\n",
       "        vertical-align: top;\n",
       "    }\n",
       "\n",
       "    .dataframe thead th {\n",
       "        text-align: right;\n",
       "    }\n",
       "</style>\n",
       "<table border=\"1\" class=\"dataframe\">\n",
       "  <thead>\n",
       "    <tr style=\"text-align: right;\">\n",
       "      <th></th>\n",
       "      <th>Species</th>\n",
       "      <th>Type</th>\n",
       "      <th>Activity</th>\n",
       "      <th>Injury</th>\n",
       "      <th>Fatal</th>\n",
       "      <th>Country</th>\n",
       "      <th>Area</th>\n",
       "      <th>Location</th>\n",
       "      <th>Sex</th>\n",
       "      <th>Age</th>\n",
       "      <th>Year</th>\n",
       "    </tr>\n",
       "  </thead>\n",
       "  <tbody>\n",
       "    <tr>\n",
       "      <th>0</th>\n",
       "      <td>White shark</td>\n",
       "      <td>Boating</td>\n",
       "      <td>Paddling</td>\n",
       "      <td>No injury to occupant, outrigger canoe and pad...</td>\n",
       "      <td>N</td>\n",
       "      <td>USA</td>\n",
       "      <td>California</td>\n",
       "      <td>Oceanside, San Diego County</td>\n",
       "      <td>F</td>\n",
       "      <td>57.0</td>\n",
       "      <td>2018.0</td>\n",
       "    </tr>\n",
       "    <tr>\n",
       "      <th>2381</th>\n",
       "      <td>6' shark</td>\n",
       "      <td>Unprovoked</td>\n",
       "      <td>Swimming</td>\n",
       "      <td>Leg bitten</td>\n",
       "      <td>N</td>\n",
       "      <td>USA</td>\n",
       "      <td>Florida</td>\n",
       "      <td>Tiger Shores Beach, Martin County</td>\n",
       "      <td>F</td>\n",
       "      <td>10.0</td>\n",
       "      <td>1995.0</td>\n",
       "    </tr>\n",
       "    <tr>\n",
       "      <th>2382</th>\n",
       "      <td>Tiger shark, 3.7 m [12']</td>\n",
       "      <td>Unprovoked</td>\n",
       "      <td>Swimming</td>\n",
       "      <td>Puncture wounds &amp; scratches to torso &amp; left leg</td>\n",
       "      <td>N</td>\n",
       "      <td>USA</td>\n",
       "      <td>Hawaii</td>\n",
       "      <td>Opposite Grand Wailea Resort, Wailea, Maui</td>\n",
       "      <td>M</td>\n",
       "      <td>38.0</td>\n",
       "      <td>1995.0</td>\n",
       "    </tr>\n",
       "    <tr>\n",
       "      <th>2386</th>\n",
       "      <td>Possibly a bull shark</td>\n",
       "      <td>Unprovoked</td>\n",
       "      <td>Surfing</td>\n",
       "      <td>Left foot bitten</td>\n",
       "      <td>N</td>\n",
       "      <td>USA</td>\n",
       "      <td>Florida</td>\n",
       "      <td>Vero Beach, Indian River County</td>\n",
       "      <td>M</td>\n",
       "      <td>15.0</td>\n",
       "      <td>1995.0</td>\n",
       "    </tr>\n",
       "    <tr>\n",
       "      <th>2414</th>\n",
       "      <td>2.7 m [9'] shark</td>\n",
       "      <td>Unprovoked</td>\n",
       "      <td>Surfing, paddling seawards</td>\n",
       "      <td>Right thigh &amp; board bitten</td>\n",
       "      <td>N</td>\n",
       "      <td>USA</td>\n",
       "      <td>Hawaii</td>\n",
       "      <td>Off the Hanalei River, Kaua'i</td>\n",
       "      <td>F</td>\n",
       "      <td>34.0</td>\n",
       "      <td>1994.0</td>\n",
       "    </tr>\n",
       "    <tr>\n",
       "      <th>...</th>\n",
       "      <td>...</td>\n",
       "      <td>...</td>\n",
       "      <td>...</td>\n",
       "      <td>...</td>\n",
       "      <td>...</td>\n",
       "      <td>...</td>\n",
       "      <td>...</td>\n",
       "      <td>...</td>\n",
       "      <td>...</td>\n",
       "      <td>...</td>\n",
       "      <td>...</td>\n",
       "    </tr>\n",
       "    <tr>\n",
       "      <th>4399</th>\n",
       "      <td>White shark,4.6 m [15']</td>\n",
       "      <td>Unprovoked</td>\n",
       "      <td>Body surfing &amp; treading water</td>\n",
       "      <td>FATAL, leg lacerated</td>\n",
       "      <td>Y</td>\n",
       "      <td>USA</td>\n",
       "      <td>California</td>\n",
       "      <td>Pacific Grove, Monterey Bay, Monterey County</td>\n",
       "      <td>M</td>\n",
       "      <td>17.0</td>\n",
       "      <td>1952.0</td>\n",
       "    </tr>\n",
       "    <tr>\n",
       "      <th>4400</th>\n",
       "      <td>&gt;6.7 m [22']  shark</td>\n",
       "      <td>Unprovoked</td>\n",
       "      <td>Swimming from fishing boat setting nets</td>\n",
       "      <td>FATAL, left arm severed below the elbow</td>\n",
       "      <td>Y</td>\n",
       "      <td>USA</td>\n",
       "      <td>Hawaii</td>\n",
       "      <td>Maile Beach, O'ahu</td>\n",
       "      <td>M</td>\n",
       "      <td>40.0</td>\n",
       "      <td>1952.0</td>\n",
       "    </tr>\n",
       "    <tr>\n",
       "      <th>728</th>\n",
       "      <td>White shark, 15' to 16'</td>\n",
       "      <td>Unprovoked</td>\n",
       "      <td>Surfing</td>\n",
       "      <td>FATAL</td>\n",
       "      <td>Y</td>\n",
       "      <td>USA</td>\n",
       "      <td>California</td>\n",
       "      <td>Surf Beach, Lompoc, Santa Barbara County</td>\n",
       "      <td>M</td>\n",
       "      <td>39.0</td>\n",
       "      <td>2012.0</td>\n",
       "    </tr>\n",
       "    <tr>\n",
       "      <th>4200</th>\n",
       "      <td>White shark</td>\n",
       "      <td>Unprovoked</td>\n",
       "      <td>Swimming</td>\n",
       "      <td>FATAL, seen with arm in mouth of shark. Body n...</td>\n",
       "      <td>Y</td>\n",
       "      <td>USA</td>\n",
       "      <td>California</td>\n",
       "      <td>Atascadero Beach, Morro Bay, San Luis Obispo C...</td>\n",
       "      <td>M</td>\n",
       "      <td>25.0</td>\n",
       "      <td>1957.0</td>\n",
       "    </tr>\n",
       "    <tr>\n",
       "      <th>3800</th>\n",
       "      <td>Unknown</td>\n",
       "      <td>Unprovoked</td>\n",
       "      <td>Surf fishing in waist-deep water</td>\n",
       "      <td>FATAL, lower right leg bitten</td>\n",
       "      <td>Y</td>\n",
       "      <td>USA</td>\n",
       "      <td>Texas</td>\n",
       "      <td>Off Andy Bowie Park, Padre Island, near Port I...</td>\n",
       "      <td>M</td>\n",
       "      <td>40.0</td>\n",
       "      <td>1962.0</td>\n",
       "    </tr>\n",
       "  </tbody>\n",
       "</table>\n",
       "<p>829 rows × 11 columns</p>\n",
       "</div>"
      ],
      "text/plain": [
       "                        Species        Type  \\\n",
       "0                   White shark     Boating   \n",
       "2381                   6' shark  Unprovoked   \n",
       "2382  Tiger shark, 3.7 m [12']   Unprovoked   \n",
       "2386      Possibly a bull shark  Unprovoked   \n",
       "2414           2.7 m [9'] shark  Unprovoked   \n",
       "...                         ...         ...   \n",
       "4399   White shark,4.6 m [15']   Unprovoked   \n",
       "4400        >6.7 m [22']  shark  Unprovoked   \n",
       "728    White shark, 15' to 16'   Unprovoked   \n",
       "4200                White shark  Unprovoked   \n",
       "3800                    Unknown  Unprovoked   \n",
       "\n",
       "                                     Activity  \\\n",
       "0                                    Paddling   \n",
       "2381                                 Swimming   \n",
       "2382                                 Swimming   \n",
       "2386                                  Surfing   \n",
       "2414               Surfing, paddling seawards   \n",
       "...                                       ...   \n",
       "4399            Body surfing & treading water   \n",
       "4400  Swimming from fishing boat setting nets   \n",
       "728                                   Surfing   \n",
       "4200                                 Swimming   \n",
       "3800         Surf fishing in waist-deep water   \n",
       "\n",
       "                                                 Injury Fatal Country  \\\n",
       "0     No injury to occupant, outrigger canoe and pad...     N     USA   \n",
       "2381                                         Leg bitten     N     USA   \n",
       "2382   Puncture wounds & scratches to torso & left leg      N     USA   \n",
       "2386                                   Left foot bitten     N     USA   \n",
       "2414                         Right thigh & board bitten     N     USA   \n",
       "...                                                 ...   ...     ...   \n",
       "4399                             FATAL, leg lacerated       Y     USA   \n",
       "4400           FATAL, left arm severed below the elbow      Y     USA   \n",
       "728                                               FATAL     Y     USA   \n",
       "4200  FATAL, seen with arm in mouth of shark. Body n...     Y     USA   \n",
       "3800                      FATAL, lower right leg bitten     Y     USA   \n",
       "\n",
       "            Area                                           Location Sex   Age  \\\n",
       "0     California                        Oceanside, San Diego County   F  57.0   \n",
       "2381     Florida                  Tiger Shores Beach, Martin County   F  10.0   \n",
       "2382      Hawaii         Opposite Grand Wailea Resort, Wailea, Maui   M  38.0   \n",
       "2386     Florida                    Vero Beach, Indian River County   M  15.0   \n",
       "2414      Hawaii                      Off the Hanalei River, Kaua'i   F  34.0   \n",
       "...          ...                                                ...  ..   ...   \n",
       "4399  California       Pacific Grove, Monterey Bay, Monterey County   M  17.0   \n",
       "4400      Hawaii                                 Maile Beach, O'ahu   M  40.0   \n",
       "728   California           Surf Beach, Lompoc, Santa Barbara County   M  39.0   \n",
       "4200  California  Atascadero Beach, Morro Bay, San Luis Obispo C...   M  25.0   \n",
       "3800       Texas  Off Andy Bowie Park, Padre Island, near Port I...   M  40.0   \n",
       "\n",
       "        Year  \n",
       "0     2018.0  \n",
       "2381  1995.0  \n",
       "2382  1995.0  \n",
       "2386  1995.0  \n",
       "2414  1994.0  \n",
       "...      ...  \n",
       "4399  1952.0  \n",
       "4400  1952.0  \n",
       "728   2012.0  \n",
       "4200  1957.0  \n",
       "3800  1962.0  \n",
       "\n",
       "[829 rows x 11 columns]"
      ]
     },
     "execution_count": 90,
     "metadata": {},
     "output_type": "execute_result"
    }
   ],
   "source": [
    "#df.plot.bar(y='Year', rot=0)\n",
    "USA=df[df['Country']=='USA'].sort_values(by=\"Fatal\")\n",
    "USA"
   ]
  },
  {
   "cell_type": "code",
   "execution_count": 91,
   "metadata": {},
   "outputs": [
    {
     "name": "stdout",
     "output_type": "stream",
     "text": [
      "Han transcurrido 150 años entre el primer ataque registrado y el ultimo.\n"
     ]
    }
   ],
   "source": [
    "df['Year'].value_counts()\n",
    "df['Year'].min()\n",
    "\n",
    "Rango_ataques=int(df['Year'].max()-df['Year'].min())\n",
    "Rango_ataques\n",
    "print(f'Han transcurrido {Rango_ataques} años entre el primer ataque registrado y el ultimo.')"
   ]
  },
  {
   "cell_type": "code",
   "execution_count": 92,
   "metadata": {},
   "outputs": [
    {
     "name": "stdout",
     "output_type": "stream",
     "text": [
      "La edad media de los que han sufrido un ataque es de 28.22575431034483\n"
     ]
    }
   ],
   "source": [
    "Age_Mean=df[\"Age\"].mean()\n",
    "print(f\"La edad media de los que han sufrido un ataque es de {Age_Mean}\")"
   ]
  },
  {
   "cell_type": "code",
   "execution_count": 206,
   "metadata": {},
   "outputs": [
    {
     "name": "stdout",
     "output_type": "stream",
     "text": [
      "El numero total de supervivientes es de1575 y de fallecidos es de 287 .\n"
     ]
    }
   ],
   "source": [
    "def len_fa(df):\n",
    "    return len(df[df['Fatal'] == 'N']),len(df[df['Fatal'] == 'Y'])\n",
    "len_fa(df)\n",
    "print(f\"El numero total de supervivientes es de {len_fa(df)[0]} y de fallecidos es de {len_fa(df)[1]} .\")"
   ]
  },
  {
   "cell_type": "code",
   "execution_count": 215,
   "metadata": {},
   "outputs": [
    {
     "name": "stdout",
     "output_type": "stream",
     "text": [
      "EL numero de hombres vivos es de 1369\n"
     ]
    }
   ],
   "source": [
    "pl=df.loc[(df['Fatal']=='N') & (df['Sex']=='M' ),['Fatal','Sex']]\n",
    "(np.sum(depm, axis=1).tolist)\n",
    "len(pl)\n",
    "#EL numero de hombres muertos es de {len(dpm)}\n",
    "print (f\"EL numero de hombres vivos es de {len(pl)}\")"
   ]
  },
  {
   "cell_type": "code",
   "execution_count": 183,
   "metadata": {},
   "outputs": [
    {
     "name": "stdout",
     "output_type": "stream",
     "text": [
      "EL numero de mujeres vivas es de 206\n"
     ]
    }
   ],
   "source": [
    "lmu=df.loc[(df['Fatal']=='N') & (df['Sex']=='F' ),['Fatal','Sex']]\n",
    "np.sum(depmu, axis=1).tolist\n",
    "len(lmu)\n",
    "print (f\"EL numero de mujeres vivas es de {len(lmu)}\")\n",
    "print(type)"
   ]
  },
  {
   "cell_type": "code",
   "execution_count": 214,
   "metadata": {},
   "outputs": [
    {
     "name": "stdout",
     "output_type": "stream",
     "text": [
      "EL numero de hombres muertos es de 245\n"
     ]
    }
   ],
   "source": [
    "depm=df.loc[(df['Fatal']=='Y') & (df['Sex']=='M' ),['Fatal','Sex']]\n",
    "(np.sum(depm, axis=1).tolist)\n",
    "len(depm)\n",
    "#EL numero de hombres muertos es de {len(dpm)}\n",
    "print (f\"EL numero de hombres muertos es de {len(depm)}\")"
   ]
  },
  {
   "cell_type": "code",
   "execution_count": 217,
   "metadata": {},
   "outputs": [
    {
     "name": "stdout",
     "output_type": "stream",
     "text": [
      "EL numero de mujeres muertas es de 42\n",
      "Series([], dtype: float64)\n"
     ]
    }
   ],
   "source": [
    "depmu=df.loc[(df['Fatal']=='Y') & (df['Sex']=='F' ),['Fatal','Sex']]\n",
    "np.sum(depmu, axis=1).tolist\n",
    "len(depmu)\n",
    "print (f\"EL numero de mujeres muertas es de {len(depmu)}\")\n"
   ]
  },
  {
   "cell_type": "code",
   "execution_count": 211,
   "metadata": {},
   "outputs": [
    {
     "data": {
      "text/plain": [
       "18.22222222222222"
      ]
     },
     "execution_count": 211,
     "metadata": {},
     "output_type": "execute_result"
    }
   ],
   "source": [
    "Leth= (len(df[df['Fatal'] == 'Y'])*100/len(df[df['Fatal'] == 'N']))\n",
    "Leth\n",
    "#La letalidad de los ataques mostrados es de 18.22"
   ]
  },
  {
   "cell_type": "code",
   "execution_count": 212,
   "metadata": {},
   "outputs": [
    {
     "name": "stdout",
     "output_type": "stream",
     "text": [
      "EL numero de mujeres registradas es de 248 y el de hombres es de 1614\n"
     ]
    }
   ],
   "source": [
    "def len_gen(df):\n",
    "    return len(df[df['Sex'] == 'F']),len(df[df['Sex'] == 'M'])\n",
    "len_gen(df)\n",
    "print(f\"EL numero de mujeres registradas es de {len_gen(df)[0]} y el de hombres es de {len_gen(df)[1]}\")"
   ]
  },
  {
   "cell_type": "code",
   "execution_count": 96,
   "metadata": {},
   "outputs": [
    {
     "data": {
      "text/plain": [
       "['White shark',\n",
       " 'Tiger shark',\n",
       " \"4' shark\",\n",
       " 'Bull shark',\n",
       " \"6' shark\",\n",
       " \"1.8 m [6'] shark\",\n",
       " \"1.2 m [4'] shark\",\n",
       " \"4' to 5' shark\",\n",
       " \"3' shark\",\n",
       " \"1.5 m [5'] shark\"]"
      ]
     },
     "execution_count": 96,
     "metadata": {},
     "output_type": "execute_result"
    }
   ],
   "source": [
    "df['Species'].value_counts()\n",
    "#df.Species.mode() dato mas frecuente\n",
    "n = 10\n",
    "df['Species'].value_counts()[:n].index.tolist()\n",
    "#lista top ten bichos malos"
   ]
  },
  {
   "cell_type": "code",
   "execution_count": 97,
   "metadata": {},
   "outputs": [
    {
     "data": {
      "text/plain": [
       "'Checklist cosas a hacer:\\nimportar la data V\\nentender la data\\nestablecer un objetivo\\nlimpiar la data\\nrealizar calculos\\nrefrendar o refutar la teoria\\n'"
      ]
     },
     "execution_count": 97,
     "metadata": {},
     "output_type": "execute_result"
    }
   ],
   "source": [
    "'''Checklist cosas a hacer:\n",
    "importar la data V\n",
    "entender la data\n",
    "establecer un objetivo\n",
    "limpiar la data\n",
    "realizar calculos\n",
    "refrendar o refutar la teoria\n",
    "'''"
   ]
  },
  {
   "cell_type": "code",
   "execution_count": 98,
   "metadata": {},
   "outputs": [
    {
     "data": {
      "text/html": [
       "<div>\n",
       "<style scoped>\n",
       "    .dataframe tbody tr th:only-of-type {\n",
       "        vertical-align: middle;\n",
       "    }\n",
       "\n",
       "    .dataframe tbody tr th {\n",
       "        vertical-align: top;\n",
       "    }\n",
       "\n",
       "    .dataframe thead th {\n",
       "        text-align: right;\n",
       "    }\n",
       "</style>\n",
       "<table border=\"1\" class=\"dataframe\">\n",
       "  <thead>\n",
       "    <tr style=\"text-align: right;\">\n",
       "      <th></th>\n",
       "      <th>Country</th>\n",
       "      <th>Type</th>\n",
       "      <th>Activity</th>\n",
       "      <th>Fatal</th>\n",
       "    </tr>\n",
       "  </thead>\n",
       "  <tbody>\n",
       "    <tr>\n",
       "      <th>2360</th>\n",
       "      <td>USA</td>\n",
       "      <td>Unprovoked</td>\n",
       "      <td>\"Riding waves on a board\"</td>\n",
       "      <td>N</td>\n",
       "    </tr>\n",
       "    <tr>\n",
       "      <th>2929</th>\n",
       "      <td>AUSTRALIA</td>\n",
       "      <td>Sea Disaster</td>\n",
       "      <td>14 m prawn trawler New Venture capsized  &amp; san...</td>\n",
       "      <td>N</td>\n",
       "    </tr>\n",
       "    <tr>\n",
       "      <th>2344</th>\n",
       "      <td>AUSTRALIA</td>\n",
       "      <td>Unprovoked</td>\n",
       "      <td>Abalone diving using Hookah (near calving whales)</td>\n",
       "      <td>Y</td>\n",
       "    </tr>\n",
       "    <tr>\n",
       "      <th>2345</th>\n",
       "      <td>USA</td>\n",
       "      <td>Unprovoked</td>\n",
       "      <td>Abalone diving using Hookah (resting on the su...</td>\n",
       "      <td>N</td>\n",
       "    </tr>\n",
       "    <tr>\n",
       "      <th>1294</th>\n",
       "      <td>AUSTRALIA</td>\n",
       "      <td>Provoked</td>\n",
       "      <td>Accidentally stood on hooked shark's tail befo...</td>\n",
       "      <td>N</td>\n",
       "    </tr>\n",
       "    <tr>\n",
       "      <th>...</th>\n",
       "      <td>...</td>\n",
       "      <td>...</td>\n",
       "      <td>...</td>\n",
       "      <td>...</td>\n",
       "    </tr>\n",
       "    <tr>\n",
       "      <th>1375</th>\n",
       "      <td>USA</td>\n",
       "      <td>Provoked</td>\n",
       "      <td>Reviving a sedated shark</td>\n",
       "      <td>N</td>\n",
       "    </tr>\n",
       "    <tr>\n",
       "      <th>2481</th>\n",
       "      <td>USA</td>\n",
       "      <td>Unprovoked</td>\n",
       "      <td>Riding floatation device</td>\n",
       "      <td>N</td>\n",
       "    </tr>\n",
       "    <tr>\n",
       "      <th>3813</th>\n",
       "      <td>USA</td>\n",
       "      <td>Unprovoked</td>\n",
       "      <td>Rolled off raft</td>\n",
       "      <td>N</td>\n",
       "    </tr>\n",
       "    <tr>\n",
       "      <th>451</th>\n",
       "      <td>AUSTRALIA</td>\n",
       "      <td>Boating</td>\n",
       "      <td>Rowing</td>\n",
       "      <td>N</td>\n",
       "    </tr>\n",
       "    <tr>\n",
       "      <th>1239</th>\n",
       "      <td>UNITED KINGDOM</td>\n",
       "      <td>Boating</td>\n",
       "      <td>Rowing an inflatable dinghy</td>\n",
       "      <td>N</td>\n",
       "    </tr>\n",
       "  </tbody>\n",
       "</table>\n",
       "<p>500 rows × 4 columns</p>\n",
       "</div>"
      ],
      "text/plain": [
       "             Country          Type  \\\n",
       "2360             USA    Unprovoked   \n",
       "2929       AUSTRALIA  Sea Disaster   \n",
       "2344       AUSTRALIA    Unprovoked   \n",
       "2345             USA    Unprovoked   \n",
       "1294       AUSTRALIA      Provoked   \n",
       "...              ...           ...   \n",
       "1375             USA      Provoked   \n",
       "2481             USA    Unprovoked   \n",
       "3813             USA    Unprovoked   \n",
       "451        AUSTRALIA       Boating   \n",
       "1239  UNITED KINGDOM       Boating   \n",
       "\n",
       "                                               Activity Fatal  \n",
       "2360                          \"Riding waves on a board\"     N  \n",
       "2929  14 m prawn trawler New Venture capsized  & san...     N  \n",
       "2344  Abalone diving using Hookah (near calving whales)     Y  \n",
       "2345  Abalone diving using Hookah (resting on the su...     N  \n",
       "1294  Accidentally stood on hooked shark's tail befo...     N  \n",
       "...                                                 ...   ...  \n",
       "1375                           Reviving a sedated shark     N  \n",
       "2481                           Riding floatation device     N  \n",
       "3813                                    Rolled off raft     N  \n",
       "451                                              Rowing     N  \n",
       "1239                        Rowing an inflatable dinghy     N  \n",
       "\n",
       "[500 rows x 4 columns]"
      ]
     },
     "execution_count": 98,
     "metadata": {},
     "output_type": "execute_result"
    }
   ],
   "source": [
    "Sorted_by_activity=  df[[\"Country\",\"Type\",\"Activity\",'Fatal']].sort_values(by=\"Activity\")\n",
    "Sorted_by_activity = Sorted_by_activity[Sorted_by_activity['Fatal'].notna()]\n",
    "Sorted_by_activity.head(500)"
   ]
  },
  {
   "cell_type": "code",
   "execution_count": 99,
   "metadata": {
    "scrolled": true
   },
   "outputs": [
    {
     "data": {
      "text/plain": [
       "array(['N', 'Y'], dtype=object)"
      ]
     },
     "execution_count": 99,
     "metadata": {},
     "output_type": "execute_result"
    }
   ],
   "source": [
    "df = df[df['Sex'] != \"lli\"]\n",
    "df = df[df['Sex'] != \"N\"]\n",
    "\n",
    "df = df[df['Fatal'] !='UNKNOWN']\n",
    "df = df[df['Fatal'] !='2017']\n",
    "df = df[df['Fatal'] !='M']\n",
    "\n",
    "df['Fatal'] = df['Fatal'].str.replace(\" \",\"\")\n",
    "LetGen=df[['Sex','Fatal']].sort_values(by=\"Sex\")\n",
    "LetGen = LetGen[LetGen['Fatal'].notna()]\n",
    "LetGen= LetGen.drop(df.index[786])\n",
    "LetGen = LetGen[LetGen['Sex'].notna()]\n",
    "Show= LetGen.Fatal.unique()\n",
    "Show"
   ]
  },
  {
   "cell_type": "code",
   "execution_count": 100,
   "metadata": {},
   "outputs": [
    {
     "data": {
      "text/plain": [
       "0       F\n",
       "6       M\n",
       "7       M\n",
       "8       M\n",
       "10      M\n",
       "       ..\n",
       "6226    M\n",
       "6239    M\n",
       "6242    M\n",
       "6243    M\n",
       "6265    M\n",
       "Name: Sex, Length: 1862, dtype: object"
      ]
     },
     "execution_count": 100,
     "metadata": {},
     "output_type": "execute_result"
    }
   ],
   "source": []
  },
  {
   "cell_type": "code",
   "execution_count": null,
   "metadata": {
    "scrolled": true
   },
   "outputs": [],
   "source": []
  },
  {
   "cell_type": "code",
   "execution_count": null,
   "metadata": {},
   "outputs": [],
   "source": []
  },
  {
   "cell_type": "code",
   "execution_count": 178,
   "metadata": {},
   "outputs": [
    {
     "name": "stdout",
     "output_type": "stream",
     "text": [
      "EL numero de hombres muertos es de 245\n"
     ]
    }
   ],
   "source": [
    "depm=df.loc[(df['Fatal']=='Y') & (df['Sex']=='M' ),['Fatal','Sex']]\n",
    "(np.sum(depm, axis=1).tolist)\n",
    "s=len(depm)\n",
    "#EL numero de hombres muertos es de {len(dpm)}\n",
    "print (f\"EL numero de hombres muertos es de {s}\")"
   ]
  },
  {
   "cell_type": "code",
   "execution_count": 179,
   "metadata": {},
   "outputs": [
    {
     "name": "stdout",
     "output_type": "stream",
     "text": [
      "EL numero de mujeres muertas es de 42\n"
     ]
    }
   ],
   "source": [
    "depmu=df.loc[(df['Fatal']=='Y') & (df['Sex']=='F' ),['Fatal','Sex']]\n",
    "np.sum(depmu, axis=1).tolist\n",
    "z=len(depmu)\n",
    "print (f\"EL numero de mujeres muertas es de {z}\")"
   ]
  },
  {
   "cell_type": "code",
   "execution_count": 103,
   "metadata": {
    "scrolled": true
   },
   "outputs": [],
   "source": [
    "def LethG(a,b,c,d):\n",
    "    \n",
    "    hm=0\n",
    "    hv=0\n",
    "    mm=0\n",
    "    mv=0\n",
    "    \n",
    "    if i=='Y'and b=='M':\n",
    "        hm +=1\n",
    "    elif i=='Y' and b=='F':\n",
    "        mv +=1\n",
    "    elif i=='N' and b=='M':\n",
    "        hv +=1\n",
    "    else :\n",
    "        mm +=1\n",
    "        return hm,hv,mm,mv\n",
    "\n",
    "\n"
   ]
  },
  {
   "cell_type": "code",
   "execution_count": null,
   "metadata": {},
   "outputs": [],
   "source": []
  },
  {
   "cell_type": "code",
   "execution_count": null,
   "metadata": {},
   "outputs": [],
   "source": [
    "\n",
    "\n"
   ]
  },
  {
   "cell_type": "code",
   "execution_count": null,
   "metadata": {},
   "outputs": [],
   "source": []
  },
  {
   "cell_type": "code",
   "execution_count": null,
   "metadata": {},
   "outputs": [],
   "source": []
  },
  {
   "cell_type": "code",
   "execution_count": null,
   "metadata": {},
   "outputs": [],
   "source": []
  },
  {
   "cell_type": "code",
   "execution_count": null,
   "metadata": {},
   "outputs": [],
   "source": []
  },
  {
   "cell_type": "code",
   "execution_count": null,
   "metadata": {},
   "outputs": [],
   "source": []
  },
  {
   "cell_type": "code",
   "execution_count": null,
   "metadata": {},
   "outputs": [],
   "source": []
  }
 ],
 "metadata": {
  "kernelspec": {
   "display_name": "Python 3",
   "language": "python",
   "name": "python3"
  },
  "language_info": {
   "codemirror_mode": {
    "name": "ipython",
    "version": 3
   },
   "file_extension": ".py",
   "mimetype": "text/x-python",
   "name": "python",
   "nbconvert_exporter": "python",
   "pygments_lexer": "ipython3",
   "version": "3.7.6"
  }
 },
 "nbformat": 4,
 "nbformat_minor": 4
}
